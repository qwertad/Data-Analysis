{
 "cells": [
  {
   "cell_type": "code",
   "execution_count": 1,
   "metadata": {
    "collapsed": true
   },
   "outputs": [],
   "source": [
    "%matplotlib inline\n",
    "import matplotlib.pyplot as plt\n",
    "import pandas as pd\n",
    "import numpy as np\n",
    "import seaborn as sns\n"
   ]
  },
  {
   "cell_type": "code",
   "execution_count": 2,
   "metadata": {},
   "outputs": [
    {
     "data": {
      "text/html": [
       "<div>\n",
       "<style>\n",
       "    .dataframe thead tr:only-child th {\n",
       "        text-align: right;\n",
       "    }\n",
       "\n",
       "    .dataframe thead th {\n",
       "        text-align: left;\n",
       "    }\n",
       "\n",
       "    .dataframe tbody tr th {\n",
       "        vertical-align: top;\n",
       "    }\n",
       "</style>\n",
       "<table border=\"1\" class=\"dataframe\">\n",
       "  <thead>\n",
       "    <tr style=\"text-align: right;\">\n",
       "      <th></th>\n",
       "      <th>ID</th>\n",
       "      <th>LIMIT_BAL</th>\n",
       "      <th>SEX</th>\n",
       "      <th>EDUCATION</th>\n",
       "      <th>MARRIAGE</th>\n",
       "      <th>AGE</th>\n",
       "      <th>PAY_0</th>\n",
       "      <th>PAY_2</th>\n",
       "      <th>PAY_3</th>\n",
       "      <th>PAY_4</th>\n",
       "      <th>...</th>\n",
       "      <th>BILL_AMT4</th>\n",
       "      <th>BILL_AMT5</th>\n",
       "      <th>BILL_AMT6</th>\n",
       "      <th>PAY_AMT1</th>\n",
       "      <th>PAY_AMT2</th>\n",
       "      <th>PAY_AMT3</th>\n",
       "      <th>PAY_AMT4</th>\n",
       "      <th>PAY_AMT5</th>\n",
       "      <th>PAY_AMT6</th>\n",
       "      <th>default.payment.next.month</th>\n",
       "    </tr>\n",
       "  </thead>\n",
       "  <tbody>\n",
       "    <tr>\n",
       "      <th>0</th>\n",
       "      <td>1</td>\n",
       "      <td>20000.0</td>\n",
       "      <td>2</td>\n",
       "      <td>2</td>\n",
       "      <td>1</td>\n",
       "      <td>24</td>\n",
       "      <td>2</td>\n",
       "      <td>2</td>\n",
       "      <td>-1</td>\n",
       "      <td>-1</td>\n",
       "      <td>...</td>\n",
       "      <td>0.0</td>\n",
       "      <td>0.0</td>\n",
       "      <td>0.0</td>\n",
       "      <td>0.0</td>\n",
       "      <td>689.0</td>\n",
       "      <td>0.0</td>\n",
       "      <td>0.0</td>\n",
       "      <td>0.0</td>\n",
       "      <td>0.0</td>\n",
       "      <td>1</td>\n",
       "    </tr>\n",
       "    <tr>\n",
       "      <th>1</th>\n",
       "      <td>2</td>\n",
       "      <td>120000.0</td>\n",
       "      <td>2</td>\n",
       "      <td>2</td>\n",
       "      <td>2</td>\n",
       "      <td>26</td>\n",
       "      <td>-1</td>\n",
       "      <td>2</td>\n",
       "      <td>0</td>\n",
       "      <td>0</td>\n",
       "      <td>...</td>\n",
       "      <td>3272.0</td>\n",
       "      <td>3455.0</td>\n",
       "      <td>3261.0</td>\n",
       "      <td>0.0</td>\n",
       "      <td>1000.0</td>\n",
       "      <td>1000.0</td>\n",
       "      <td>1000.0</td>\n",
       "      <td>0.0</td>\n",
       "      <td>2000.0</td>\n",
       "      <td>1</td>\n",
       "    </tr>\n",
       "    <tr>\n",
       "      <th>2</th>\n",
       "      <td>3</td>\n",
       "      <td>90000.0</td>\n",
       "      <td>2</td>\n",
       "      <td>2</td>\n",
       "      <td>2</td>\n",
       "      <td>34</td>\n",
       "      <td>0</td>\n",
       "      <td>0</td>\n",
       "      <td>0</td>\n",
       "      <td>0</td>\n",
       "      <td>...</td>\n",
       "      <td>14331.0</td>\n",
       "      <td>14948.0</td>\n",
       "      <td>15549.0</td>\n",
       "      <td>1518.0</td>\n",
       "      <td>1500.0</td>\n",
       "      <td>1000.0</td>\n",
       "      <td>1000.0</td>\n",
       "      <td>1000.0</td>\n",
       "      <td>5000.0</td>\n",
       "      <td>0</td>\n",
       "    </tr>\n",
       "    <tr>\n",
       "      <th>3</th>\n",
       "      <td>4</td>\n",
       "      <td>50000.0</td>\n",
       "      <td>2</td>\n",
       "      <td>2</td>\n",
       "      <td>1</td>\n",
       "      <td>37</td>\n",
       "      <td>0</td>\n",
       "      <td>0</td>\n",
       "      <td>0</td>\n",
       "      <td>0</td>\n",
       "      <td>...</td>\n",
       "      <td>28314.0</td>\n",
       "      <td>28959.0</td>\n",
       "      <td>29547.0</td>\n",
       "      <td>2000.0</td>\n",
       "      <td>2019.0</td>\n",
       "      <td>1200.0</td>\n",
       "      <td>1100.0</td>\n",
       "      <td>1069.0</td>\n",
       "      <td>1000.0</td>\n",
       "      <td>0</td>\n",
       "    </tr>\n",
       "    <tr>\n",
       "      <th>4</th>\n",
       "      <td>5</td>\n",
       "      <td>50000.0</td>\n",
       "      <td>1</td>\n",
       "      <td>2</td>\n",
       "      <td>1</td>\n",
       "      <td>57</td>\n",
       "      <td>-1</td>\n",
       "      <td>0</td>\n",
       "      <td>-1</td>\n",
       "      <td>0</td>\n",
       "      <td>...</td>\n",
       "      <td>20940.0</td>\n",
       "      <td>19146.0</td>\n",
       "      <td>19131.0</td>\n",
       "      <td>2000.0</td>\n",
       "      <td>36681.0</td>\n",
       "      <td>10000.0</td>\n",
       "      <td>9000.0</td>\n",
       "      <td>689.0</td>\n",
       "      <td>679.0</td>\n",
       "      <td>0</td>\n",
       "    </tr>\n",
       "  </tbody>\n",
       "</table>\n",
       "<p>5 rows × 25 columns</p>\n",
       "</div>"
      ],
      "text/plain": [
       "   ID  LIMIT_BAL  SEX  EDUCATION  MARRIAGE  AGE  PAY_0  PAY_2  PAY_3  PAY_4  \\\n",
       "0   1    20000.0    2          2         1   24      2      2     -1     -1   \n",
       "1   2   120000.0    2          2         2   26     -1      2      0      0   \n",
       "2   3    90000.0    2          2         2   34      0      0      0      0   \n",
       "3   4    50000.0    2          2         1   37      0      0      0      0   \n",
       "4   5    50000.0    1          2         1   57     -1      0     -1      0   \n",
       "\n",
       "              ...              BILL_AMT4  BILL_AMT5  BILL_AMT6  PAY_AMT1  \\\n",
       "0             ...                    0.0        0.0        0.0       0.0   \n",
       "1             ...                 3272.0     3455.0     3261.0       0.0   \n",
       "2             ...                14331.0    14948.0    15549.0    1518.0   \n",
       "3             ...                28314.0    28959.0    29547.0    2000.0   \n",
       "4             ...                20940.0    19146.0    19131.0    2000.0   \n",
       "\n",
       "   PAY_AMT2  PAY_AMT3  PAY_AMT4  PAY_AMT5  PAY_AMT6  \\\n",
       "0     689.0       0.0       0.0       0.0       0.0   \n",
       "1    1000.0    1000.0    1000.0       0.0    2000.0   \n",
       "2    1500.0    1000.0    1000.0    1000.0    5000.0   \n",
       "3    2019.0    1200.0    1100.0    1069.0    1000.0   \n",
       "4   36681.0   10000.0    9000.0     689.0     679.0   \n",
       "\n",
       "   default.payment.next.month  \n",
       "0                           1  \n",
       "1                           1  \n",
       "2                           0  \n",
       "3                           0  \n",
       "4                           0  \n",
       "\n",
       "[5 rows x 25 columns]"
      ]
     },
     "execution_count": 2,
     "metadata": {},
     "output_type": "execute_result"
    }
   ],
   "source": [
    "data = pd.read_csv(\"C:/Users/USER/Desktop/UCI_Credit_Card.csv (1)/UCI_Credit_Card.csv\")\n",
    "data.head()"
   ]
  },
  {
   "cell_type": "code",
   "execution_count": 3,
   "metadata": {
    "collapsed": true
   },
   "outputs": [],
   "source": [
    "from sklearn.model_selection import train_test_split\n",
    "from sklearn.ensemble import RandomForestClassifier\n",
    "from sklearn.metrics import accuracy_score, make_scorer\n",
    "from sklearn.metrics import f1_score"
   ]
  },
  {
   "cell_type": "code",
   "execution_count": 4,
   "metadata": {},
   "outputs": [
    {
     "data": {
      "text/plain": [
       "Index(['ID', 'LIMIT_BAL', 'SEX', 'EDUCATION', 'MARRIAGE', 'AGE', 'PAY_0',\n",
       "       'PAY_2', 'PAY_3', 'PAY_4', 'PAY_5', 'PAY_6', 'BILL_AMT1', 'BILL_AMT2',\n",
       "       'BILL_AMT3', 'BILL_AMT4', 'BILL_AMT5', 'BILL_AMT6', 'PAY_AMT1',\n",
       "       'PAY_AMT2', 'PAY_AMT3', 'PAY_AMT4', 'PAY_AMT5', 'PAY_AMT6',\n",
       "       'default.payment.next.month'],\n",
       "      dtype='object')"
      ]
     },
     "execution_count": 4,
     "metadata": {},
     "output_type": "execute_result"
    }
   ],
   "source": [
    "data.columns"
   ]
  },
  {
   "cell_type": "code",
   "execution_count": 45,
   "metadata": {
    "collapsed": true
   },
   "outputs": [],
   "source": [
    "data = data[['LIMIT_BAL', 'SEX', 'EDUCATION', 'MARRIAGE', 'AGE', 'PAY_0',\n",
    "       'PAY_2', 'PAY_3', 'PAY_4', 'PAY_5', 'PAY_6', 'BILL_AMT1', 'BILL_AMT2',\n",
    "       'BILL_AMT3', 'BILL_AMT4', 'BILL_AMT5', 'BILL_AMT6', 'PAY_AMT1',\n",
    "       'PAY_AMT2', 'PAY_AMT3', 'PAY_AMT4', 'PAY_AMT5', 'PAY_AMT6',\n",
    "       'default.payment.next.month']]\n",
    "xdata = data[['LIMIT_BAL', 'SEX', 'EDUCATION', 'MARRIAGE', 'AGE', 'PAY_0',\n",
    "       'PAY_2', 'PAY_3', 'PAY_4', 'PAY_5', 'PAY_6']]\n",
    "ydata = data['default.payment.next.month']\n",
    "x_train , x_test , y_train , y_test = train_test_split(xdata , ydata)"
   ]
  },
  {
   "cell_type": "markdown",
   "metadata": {},
   "source": [
    "## train on normal dataset"
   ]
  },
  {
   "cell_type": "code",
   "execution_count": 47,
   "metadata": {},
   "outputs": [
    {
     "name": "stdout",
     "output_type": "stream",
     "text": [
      "_________________________________________________________________\n",
      "Layer (type)                 Output Shape              Param #   \n",
      "=================================================================\n",
      "dense_37 (Dense)             (None, 36)                432       \n",
      "_________________________________________________________________\n",
      "dropout_13 (Dropout)         (None, 36)                0         \n",
      "_________________________________________________________________\n",
      "dense_38 (Dense)             (None, 36)                1332      \n",
      "_________________________________________________________________\n",
      "dense_39 (Dense)             (None, 2)                 74        \n",
      "=================================================================\n",
      "Total params: 1,838\n",
      "Trainable params: 1,838\n",
      "Non-trainable params: 0\n",
      "_________________________________________________________________\n",
      "Train on 22500 samples, validate on 7500 samples\n",
      "Epoch 1/10\n",
      "22500/22500 [==============================] - 3s 113us/step - loss: 8.4914 - acc: 0.4732 - val_loss: 3.5202 - val_acc: 0.7816\n",
      "Epoch 2/10\n",
      "22500/22500 [==============================] - 2s 69us/step - loss: 3.6026 - acc: 0.7765 - val_loss: 3.5202 - val_acc: 0.7816\n",
      "Epoch 3/10\n",
      "22500/22500 [==============================] - 1s 61us/step - loss: 3.6069 - acc: 0.7762 - val_loss: 3.5202 - val_acc: 0.7816\n",
      "Epoch 4/10\n",
      "22500/22500 [==============================] - 1s 60us/step - loss: 3.5990 - acc: 0.7767 - val_loss: 3.5202 - val_acc: 0.7816\n",
      "Epoch 5/10\n",
      "22500/22500 [==============================] - 1s 60us/step - loss: 3.5992 - acc: 0.7767 - val_loss: 3.5202 - val_acc: 0.7816\n",
      "Epoch 6/10\n",
      "22500/22500 [==============================] - 1s 59us/step - loss: 3.5818 - acc: 0.7778 - val_loss: 3.5202 - val_acc: 0.7816\n",
      "Epoch 7/10\n",
      "22500/22500 [==============================] - 1s 59us/step - loss: 3.5832 - acc: 0.7777 - val_loss: 3.5202 - val_acc: 0.7816\n",
      "Epoch 8/10\n",
      "22500/22500 [==============================] - 1s 59us/step - loss: 3.5811 - acc: 0.7778 - val_loss: 3.5202 - val_acc: 0.7816\n",
      "Epoch 9/10\n",
      "22500/22500 [==============================] - 1s 62us/step - loss: 3.5825 - acc: 0.7777 - val_loss: 3.5202 - val_acc: 0.7816\n",
      "Epoch 10/10\n",
      "22500/22500 [==============================] - 2s 68us/step - loss: 3.5811 - acc: 0.7778 - val_loss: 3.5202 - val_acc: 0.7816\n"
     ]
    }
   ],
   "source": [
    "import keras\n",
    "from keras.models import Sequential\n",
    "from keras.layers import Dense, Dropout, Flatten\n",
    "from keras.layers import Conv2D, MaxPooling2D\n",
    "from keras.utils import np_utils\n",
    "from keras import backend as K\n",
    "\n",
    "model = Sequential()\n",
    "model.add(Dense(36, activation='relu', input_shape =(11,)))\n",
    "model.add(Dropout(0.3))\n",
    "model.add(Dense(36, activation='relu'))\n",
    "model.add(Dense(2, activation='softmax'))\n",
    "\n",
    "model.summary()\n",
    "\n",
    "model.compile(optimizer='adam',loss = \"categorical_crossentropy\",metrics=['accuracy'])\n",
    "\n",
    "\n",
    "\n",
    "y_train_one = np_utils.to_categorical(y_train)\n",
    "y_test_one = np_utils.to_categorical(y_test)\n",
    "#y_down_train_one =np_utils.to_categorical(y_down)\n",
    "model.fit(x_train,y_train_one, epochs=10, validation_data=(x_test,y_test_one),class_weight=(1,10))\n",
    "predict_one = model.predict(x_test)\n",
    "predict_int = np.argmax(predict_one, axis=1)\n"
   ]
  },
  {
   "cell_type": "code",
   "execution_count": 48,
   "metadata": {
    "collapsed": true
   },
   "outputs": [],
   "source": [
    "def score_matrix ( true , pred) :\n",
    "    TP = np.sum(np.logical_and(pred==1,true==1))\n",
    "    TN = np.sum(np.logical_and(pred==0,true==0))\n",
    "    FP = np.sum(np.logical_and(pred==1,true==0))\n",
    "    FN = np.sum(np.logical_and(pred==0,true==1))\n",
    "    #判斷為真且為真的機率\n",
    "    Precision = TP/(TP+FP)\n",
    "    #為真被判斷為真的機率\n",
    "    Recall = TP/(TP+FN)\n",
    "    #為假被判斷為真的機率\n",
    "    FPR = FP/(TN+FP)\n",
    "    #平測不平衡資料的指標\n",
    "    F1 = f1_score(y_true = true,y_pred=pred)\n",
    "    ACC = accuracy_score (y_true=true,y_pred=pred)\n",
    "    \n",
    "    score = pd.DataFrame({\"Index\":[\"Precision\",\"Recall\",\"FPR\",\"Accuracy\",\"F1\"],\n",
    "                          \"Score\":[Precision,Recall,FPR,ACC, F1]})\n",
    "    return score"
   ]
  },
  {
   "cell_type": "code",
   "execution_count": 49,
   "metadata": {
    "collapsed": true
   },
   "outputs": [],
   "source": [
    "pre = pd.DataFrame(predict_int)[0]\n",
    "tru = pd.DataFrame(y_test.values)[0]"
   ]
  },
  {
   "cell_type": "code",
   "execution_count": 50,
   "metadata": {},
   "outputs": [
    {
     "data": {
      "text/plain": [
       "array([0, 0, 0, ..., 0, 0, 0], dtype=int64)"
      ]
     },
     "execution_count": 50,
     "metadata": {},
     "output_type": "execute_result"
    }
   ],
   "source": [
    "predict_int"
   ]
  },
  {
   "cell_type": "code",
   "execution_count": 51,
   "metadata": {},
   "outputs": [
    {
     "name": "stderr",
     "output_type": "stream",
     "text": [
      "D:\\Anaconda\\lib\\site-packages\\ipykernel_launcher.py:7: RuntimeWarning: invalid value encountered in longlong_scalars\n",
      "  import sys\n",
      "D:\\Anaconda\\lib\\site-packages\\sklearn\\metrics\\classification.py:1135: UndefinedMetricWarning: F-score is ill-defined and being set to 0.0 due to no predicted samples.\n",
      "  'precision', 'predicted', average, warn_for)\n"
     ]
    },
    {
     "data": {
      "text/html": [
       "<div>\n",
       "<style>\n",
       "    .dataframe thead tr:only-child th {\n",
       "        text-align: right;\n",
       "    }\n",
       "\n",
       "    .dataframe thead th {\n",
       "        text-align: left;\n",
       "    }\n",
       "\n",
       "    .dataframe tbody tr th {\n",
       "        vertical-align: top;\n",
       "    }\n",
       "</style>\n",
       "<table border=\"1\" class=\"dataframe\">\n",
       "  <thead>\n",
       "    <tr style=\"text-align: right;\">\n",
       "      <th></th>\n",
       "      <th>Index</th>\n",
       "      <th>Score</th>\n",
       "    </tr>\n",
       "  </thead>\n",
       "  <tbody>\n",
       "    <tr>\n",
       "      <th>0</th>\n",
       "      <td>Precision</td>\n",
       "      <td>NaN</td>\n",
       "    </tr>\n",
       "    <tr>\n",
       "      <th>1</th>\n",
       "      <td>Recall</td>\n",
       "      <td>0.0000</td>\n",
       "    </tr>\n",
       "    <tr>\n",
       "      <th>2</th>\n",
       "      <td>FPR</td>\n",
       "      <td>0.0000</td>\n",
       "    </tr>\n",
       "    <tr>\n",
       "      <th>3</th>\n",
       "      <td>Accuracy</td>\n",
       "      <td>0.7816</td>\n",
       "    </tr>\n",
       "    <tr>\n",
       "      <th>4</th>\n",
       "      <td>F1</td>\n",
       "      <td>0.0000</td>\n",
       "    </tr>\n",
       "  </tbody>\n",
       "</table>\n",
       "</div>"
      ],
      "text/plain": [
       "       Index   Score\n",
       "0  Precision     NaN\n",
       "1     Recall  0.0000\n",
       "2        FPR  0.0000\n",
       "3   Accuracy  0.7816\n",
       "4         F1  0.0000"
      ]
     },
     "execution_count": 51,
     "metadata": {},
     "output_type": "execute_result"
    }
   ],
   "source": [
    "score_matrix(tru,pre)"
   ]
  },
  {
   "cell_type": "markdown",
   "metadata": {},
   "source": [
    "## the result is pool , my model just predict it all zero to get 0.78 accuracy\n",
    "## but the recall and precision are zero , it's totally useless"
   ]
  },
  {
   "cell_type": "markdown",
   "metadata": {},
   "source": [
    "# train on down sampled dataset"
   ]
  },
  {
   "cell_type": "code",
   "execution_count": 52,
   "metadata": {},
   "outputs": [
    {
     "data": {
      "text/plain": [
       "0    17502\n",
       "1     4998\n",
       "Name: default.payment.next.month, dtype: int64"
      ]
     },
     "execution_count": 52,
     "metadata": {},
     "output_type": "execute_result"
    }
   ],
   "source": [
    "from sklearn.utils import resample\n",
    "train_set = x_train.join(y_train)\n",
    "train_set[\"default.payment.next.month\"].value_counts()"
   ]
  },
  {
   "cell_type": "code",
   "execution_count": 53,
   "metadata": {},
   "outputs": [
    {
     "data": {
      "text/plain": [
       "1    4998\n",
       "0    4961\n",
       "Name: default.payment.next.month, dtype: int64"
      ]
     },
     "execution_count": 53,
     "metadata": {},
     "output_type": "execute_result"
    }
   ],
   "source": [
    "## 把0的資料在訓練集上resameple降低到與1的資料相同數目\n",
    "major = train_set[train_set[\"default.payment.next.month\"]==0]\n",
    "minor = train_set[train_set[\"default.payment.next.month\"]==1]\n",
    "major_down = resample(major,replace=True,n_samples=4961,random_state=66)\n",
    "down_sample = pd.concat([minor,major_down])\n",
    "down_sample[\"default.payment.next.month\"].value_counts()"
   ]
  },
  {
   "cell_type": "code",
   "execution_count": 54,
   "metadata": {
    "collapsed": true
   },
   "outputs": [],
   "source": [
    "x_down = down_sample[['LIMIT_BAL', 'SEX', 'EDUCATION', 'MARRIAGE', 'AGE', 'PAY_0',\n",
    "       'PAY_2', 'PAY_3', 'PAY_4', 'PAY_5', 'PAY_6' ]]\n",
    "y_down = down_sample[\"default.payment.next.month\"]"
   ]
  },
  {
   "cell_type": "code",
   "execution_count": 60,
   "metadata": {},
   "outputs": [
    {
     "name": "stdout",
     "output_type": "stream",
     "text": [
      "_________________________________________________________________\n",
      "Layer (type)                 Output Shape              Param #   \n",
      "=================================================================\n",
      "dense_46 (Dense)             (None, 36)                432       \n",
      "_________________________________________________________________\n",
      "dropout_16 (Dropout)         (None, 36)                0         \n",
      "_________________________________________________________________\n",
      "dense_47 (Dense)             (None, 36)                1332      \n",
      "_________________________________________________________________\n",
      "dense_48 (Dense)             (None, 2)                 74        \n",
      "=================================================================\n",
      "Total params: 1,838\n",
      "Trainable params: 1,838\n",
      "Non-trainable params: 0\n",
      "_________________________________________________________________\n",
      "Train on 7967 samples, validate on 1992 samples\n",
      "Epoch 1/20\n",
      "7967/7967 [==============================] - 1s 170us/step - loss: 6.0690 - acc: 0.6234 - val_loss: 16.1181 - val_acc: 0.0000e+00\n",
      "Epoch 2/20\n",
      "7967/7967 [==============================] - 1s 67us/step - loss: 6.0125 - acc: 0.6268 - val_loss: 16.1181 - val_acc: 0.0000e+00\n",
      "Epoch 3/20\n",
      "7967/7967 [==============================] - 0s 61us/step - loss: 6.0066 - acc: 0.6273 - val_loss: 16.1181 - val_acc: 0.0000e+00\n",
      "Epoch 4/20\n",
      "7967/7967 [==============================] - 0s 60us/step - loss: 6.0066 - acc: 0.6273 - val_loss: 16.1181 - val_acc: 0.0000e+00\n",
      "Epoch 5/20\n",
      "7967/7967 [==============================] - 0s 59us/step - loss: 6.0086 - acc: 0.6272 - val_loss: 16.1181 - val_acc: 0.0000e+00\n",
      "Epoch 6/20\n",
      "7967/7967 [==============================] - 0s 61us/step - loss: 6.0046 - acc: 0.6275 - val_loss: 16.1181 - val_acc: 0.0000e+00\n",
      "Epoch 7/20\n",
      "7967/7967 [==============================] - 0s 60us/step - loss: 6.0066 - acc: 0.6273 - val_loss: 16.1181 - val_acc: 0.0000e+00\n",
      "Epoch 8/20\n",
      "7967/7967 [==============================] - 0s 60us/step - loss: 6.0127 - acc: 0.6270 - val_loss: 16.1181 - val_acc: 0.0000e+00\n",
      "Epoch 9/20\n",
      "7967/7967 [==============================] - 0s 61us/step - loss: 6.0066 - acc: 0.6273 - val_loss: 16.1181 - val_acc: 0.0000e+00\n",
      "Epoch 10/20\n",
      "7967/7967 [==============================] - 0s 60us/step - loss: 6.0066 - acc: 0.6273 - val_loss: 16.1181 - val_acc: 0.0000e+00\n",
      "Epoch 11/20\n",
      "7967/7967 [==============================] - 1s 65us/step - loss: 6.0046 - acc: 0.6275 - val_loss: 16.1181 - val_acc: 0.0000e+00\n",
      "Epoch 12/20\n",
      "7967/7967 [==============================] - 0s 61us/step - loss: 6.0086 - acc: 0.6272 - val_loss: 16.1181 - val_acc: 0.0000e+00\n",
      "Epoch 13/20\n",
      "7967/7967 [==============================] - 1s 74us/step - loss: 6.0005 - acc: 0.6277 - val_loss: 16.1181 - val_acc: 0.0000e+00\n",
      "Epoch 14/20\n",
      "7967/7967 [==============================] - 1s 64us/step - loss: 6.0086 - acc: 0.6272 - val_loss: 16.1181 - val_acc: 0.0000e+00\n",
      "Epoch 15/20\n",
      "7967/7967 [==============================] - 1s 67us/step - loss: 6.0046 - acc: 0.6275 - val_loss: 16.1181 - val_acc: 0.0000e+00\n",
      "Epoch 16/20\n",
      "7967/7967 [==============================] - 0s 61us/step - loss: 6.0066 - acc: 0.6273 - val_loss: 16.1181 - val_acc: 0.0000e+00\n",
      "Epoch 17/20\n",
      "7967/7967 [==============================] - 1s 65us/step - loss: 6.0066 - acc: 0.6273 - val_loss: 16.1181 - val_acc: 0.0000e+00\n",
      "Epoch 18/20\n",
      "7967/7967 [==============================] - 0s 61us/step - loss: 6.0066 - acc: 0.6273 - val_loss: 16.1181 - val_acc: 0.0000e+00\n",
      "Epoch 19/20\n",
      "7967/7967 [==============================] - 1s 66us/step - loss: 6.0066 - acc: 0.6273 - val_loss: 16.1181 - val_acc: 0.0000e+00\n",
      "Epoch 20/20\n",
      "7967/7967 [==============================] - 1s 80us/step - loss: 6.0086 - acc: 0.6272 - val_loss: 16.1181 - val_acc: 0.0000e+00\n"
     ]
    }
   ],
   "source": [
    "model2 = Sequential()\n",
    "model2.add(Dense(36, activation='relu', input_shape =(11,)))\n",
    "model2.add(Dropout(0.3))\n",
    "model2.add(Dense(36, activation='relu'))\n",
    "model2.add(Dense(2, activation='softmax'))\n",
    "\n",
    "model2.summary()\n",
    "\n",
    "model2.compile(optimizer='adam',loss = \"categorical_crossentropy\",metrics=['accuracy'])\n",
    "\n",
    "\n",
    "\n",
    "y_down_train_one = np_utils.to_categorical(y_down)\n",
    "y_test_one = np_utils.to_categorical(y_test)\n",
    "#y_down_train_one =np_utils.to_categorical(y_down)\n",
    "model2.fit(x_down,y_down_train_one, epochs=20, validation_split=0.2,class_weight=\"balanced\")\n",
    "predict_two = model2.predict(x_test)\n",
    "predict_int2 = np.argmax(predict_two, axis=1)\n",
    "\n",
    "\n"
   ]
  },
  {
   "cell_type": "code",
   "execution_count": 61,
   "metadata": {
    "collapsed": true
   },
   "outputs": [],
   "source": [
    "pre2 = pd.DataFrame(predict_int2)[0]\n",
    "tru2= pd.DataFrame(y_test.values)[0]"
   ]
  },
  {
   "cell_type": "code",
   "execution_count": 62,
   "metadata": {},
   "outputs": [
    {
     "data": {
      "text/html": [
       "<div>\n",
       "<style>\n",
       "    .dataframe thead tr:only-child th {\n",
       "        text-align: right;\n",
       "    }\n",
       "\n",
       "    .dataframe thead th {\n",
       "        text-align: left;\n",
       "    }\n",
       "\n",
       "    .dataframe tbody tr th {\n",
       "        vertical-align: top;\n",
       "    }\n",
       "</style>\n",
       "<table border=\"1\" class=\"dataframe\">\n",
       "  <thead>\n",
       "    <tr style=\"text-align: right;\">\n",
       "      <th></th>\n",
       "      <th>Index</th>\n",
       "      <th>Score</th>\n",
       "    </tr>\n",
       "  </thead>\n",
       "  <tbody>\n",
       "    <tr>\n",
       "      <th>0</th>\n",
       "      <td>Precision</td>\n",
       "      <td>0.218400</td>\n",
       "    </tr>\n",
       "    <tr>\n",
       "      <th>1</th>\n",
       "      <td>Recall</td>\n",
       "      <td>1.000000</td>\n",
       "    </tr>\n",
       "    <tr>\n",
       "      <th>2</th>\n",
       "      <td>FPR</td>\n",
       "      <td>1.000000</td>\n",
       "    </tr>\n",
       "    <tr>\n",
       "      <th>3</th>\n",
       "      <td>Accuracy</td>\n",
       "      <td>0.218400</td>\n",
       "    </tr>\n",
       "    <tr>\n",
       "      <th>4</th>\n",
       "      <td>F1</td>\n",
       "      <td>0.358503</td>\n",
       "    </tr>\n",
       "  </tbody>\n",
       "</table>\n",
       "</div>"
      ],
      "text/plain": [
       "       Index     Score\n",
       "0  Precision  0.218400\n",
       "1     Recall  1.000000\n",
       "2        FPR  1.000000\n",
       "3   Accuracy  0.218400\n",
       "4         F1  0.358503"
      ]
     },
     "execution_count": 62,
     "metadata": {},
     "output_type": "execute_result"
    }
   ],
   "source": [
    "score_matrix(tru2,pre2)"
   ]
  },
  {
   "cell_type": "markdown",
   "metadata": {},
   "source": [
    "## this time i don't know why my model predict it all 1 \n",
    "## and i got recall 100% but its also useless"
   ]
  },
  {
   "cell_type": "code",
   "execution_count": null,
   "metadata": {
    "collapsed": true
   },
   "outputs": [],
   "source": []
  }
 ],
 "metadata": {
  "kernelspec": {
   "display_name": "Python 3",
   "language": "python",
   "name": "python3"
  },
  "language_info": {
   "codemirror_mode": {
    "name": "ipython",
    "version": 3
   },
   "file_extension": ".py",
   "mimetype": "text/x-python",
   "name": "python",
   "nbconvert_exporter": "python",
   "pygments_lexer": "ipython3",
   "version": "3.6.3"
  }
 },
 "nbformat": 4,
 "nbformat_minor": 2
}
