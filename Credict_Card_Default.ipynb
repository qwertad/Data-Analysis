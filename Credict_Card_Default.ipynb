{
 "cells": [
  {
   "cell_type": "code",
   "execution_count": 1,
   "metadata": {
    "collapsed": true
   },
   "outputs": [],
   "source": [
    "%matplotlib inline\n",
    "import matplotlib.pyplot as plt\n",
    "import pandas as pd\n",
    "import numpy as np\n",
    "import seaborn as sns\n"
   ]
  },
  {
   "cell_type": "markdown",
   "metadata": {},
   "source": [
    "## 讀入資料"
   ]
  },
  {
   "cell_type": "code",
   "execution_count": 2,
   "metadata": {},
   "outputs": [
    {
     "data": {
      "text/html": [
       "<div>\n",
       "<style>\n",
       "    .dataframe thead tr:only-child th {\n",
       "        text-align: right;\n",
       "    }\n",
       "\n",
       "    .dataframe thead th {\n",
       "        text-align: left;\n",
       "    }\n",
       "\n",
       "    .dataframe tbody tr th {\n",
       "        vertical-align: top;\n",
       "    }\n",
       "</style>\n",
       "<table border=\"1\" class=\"dataframe\">\n",
       "  <thead>\n",
       "    <tr style=\"text-align: right;\">\n",
       "      <th></th>\n",
       "      <th>ID</th>\n",
       "      <th>LIMIT_BAL</th>\n",
       "      <th>SEX</th>\n",
       "      <th>EDUCATION</th>\n",
       "      <th>MARRIAGE</th>\n",
       "      <th>AGE</th>\n",
       "      <th>PAY_0</th>\n",
       "      <th>PAY_2</th>\n",
       "      <th>PAY_3</th>\n",
       "      <th>PAY_4</th>\n",
       "      <th>...</th>\n",
       "      <th>BILL_AMT4</th>\n",
       "      <th>BILL_AMT5</th>\n",
       "      <th>BILL_AMT6</th>\n",
       "      <th>PAY_AMT1</th>\n",
       "      <th>PAY_AMT2</th>\n",
       "      <th>PAY_AMT3</th>\n",
       "      <th>PAY_AMT4</th>\n",
       "      <th>PAY_AMT5</th>\n",
       "      <th>PAY_AMT6</th>\n",
       "      <th>default.payment.next.month</th>\n",
       "    </tr>\n",
       "  </thead>\n",
       "  <tbody>\n",
       "    <tr>\n",
       "      <th>0</th>\n",
       "      <td>1</td>\n",
       "      <td>20000.0</td>\n",
       "      <td>2</td>\n",
       "      <td>2</td>\n",
       "      <td>1</td>\n",
       "      <td>24</td>\n",
       "      <td>2</td>\n",
       "      <td>2</td>\n",
       "      <td>-1</td>\n",
       "      <td>-1</td>\n",
       "      <td>...</td>\n",
       "      <td>0.0</td>\n",
       "      <td>0.0</td>\n",
       "      <td>0.0</td>\n",
       "      <td>0.0</td>\n",
       "      <td>689.0</td>\n",
       "      <td>0.0</td>\n",
       "      <td>0.0</td>\n",
       "      <td>0.0</td>\n",
       "      <td>0.0</td>\n",
       "      <td>1</td>\n",
       "    </tr>\n",
       "    <tr>\n",
       "      <th>1</th>\n",
       "      <td>2</td>\n",
       "      <td>120000.0</td>\n",
       "      <td>2</td>\n",
       "      <td>2</td>\n",
       "      <td>2</td>\n",
       "      <td>26</td>\n",
       "      <td>-1</td>\n",
       "      <td>2</td>\n",
       "      <td>0</td>\n",
       "      <td>0</td>\n",
       "      <td>...</td>\n",
       "      <td>3272.0</td>\n",
       "      <td>3455.0</td>\n",
       "      <td>3261.0</td>\n",
       "      <td>0.0</td>\n",
       "      <td>1000.0</td>\n",
       "      <td>1000.0</td>\n",
       "      <td>1000.0</td>\n",
       "      <td>0.0</td>\n",
       "      <td>2000.0</td>\n",
       "      <td>1</td>\n",
       "    </tr>\n",
       "    <tr>\n",
       "      <th>2</th>\n",
       "      <td>3</td>\n",
       "      <td>90000.0</td>\n",
       "      <td>2</td>\n",
       "      <td>2</td>\n",
       "      <td>2</td>\n",
       "      <td>34</td>\n",
       "      <td>0</td>\n",
       "      <td>0</td>\n",
       "      <td>0</td>\n",
       "      <td>0</td>\n",
       "      <td>...</td>\n",
       "      <td>14331.0</td>\n",
       "      <td>14948.0</td>\n",
       "      <td>15549.0</td>\n",
       "      <td>1518.0</td>\n",
       "      <td>1500.0</td>\n",
       "      <td>1000.0</td>\n",
       "      <td>1000.0</td>\n",
       "      <td>1000.0</td>\n",
       "      <td>5000.0</td>\n",
       "      <td>0</td>\n",
       "    </tr>\n",
       "    <tr>\n",
       "      <th>3</th>\n",
       "      <td>4</td>\n",
       "      <td>50000.0</td>\n",
       "      <td>2</td>\n",
       "      <td>2</td>\n",
       "      <td>1</td>\n",
       "      <td>37</td>\n",
       "      <td>0</td>\n",
       "      <td>0</td>\n",
       "      <td>0</td>\n",
       "      <td>0</td>\n",
       "      <td>...</td>\n",
       "      <td>28314.0</td>\n",
       "      <td>28959.0</td>\n",
       "      <td>29547.0</td>\n",
       "      <td>2000.0</td>\n",
       "      <td>2019.0</td>\n",
       "      <td>1200.0</td>\n",
       "      <td>1100.0</td>\n",
       "      <td>1069.0</td>\n",
       "      <td>1000.0</td>\n",
       "      <td>0</td>\n",
       "    </tr>\n",
       "    <tr>\n",
       "      <th>4</th>\n",
       "      <td>5</td>\n",
       "      <td>50000.0</td>\n",
       "      <td>1</td>\n",
       "      <td>2</td>\n",
       "      <td>1</td>\n",
       "      <td>57</td>\n",
       "      <td>-1</td>\n",
       "      <td>0</td>\n",
       "      <td>-1</td>\n",
       "      <td>0</td>\n",
       "      <td>...</td>\n",
       "      <td>20940.0</td>\n",
       "      <td>19146.0</td>\n",
       "      <td>19131.0</td>\n",
       "      <td>2000.0</td>\n",
       "      <td>36681.0</td>\n",
       "      <td>10000.0</td>\n",
       "      <td>9000.0</td>\n",
       "      <td>689.0</td>\n",
       "      <td>679.0</td>\n",
       "      <td>0</td>\n",
       "    </tr>\n",
       "  </tbody>\n",
       "</table>\n",
       "<p>5 rows × 25 columns</p>\n",
       "</div>"
      ],
      "text/plain": [
       "   ID  LIMIT_BAL  SEX  EDUCATION  MARRIAGE  AGE  PAY_0  PAY_2  PAY_3  PAY_4  \\\n",
       "0   1    20000.0    2          2         1   24      2      2     -1     -1   \n",
       "1   2   120000.0    2          2         2   26     -1      2      0      0   \n",
       "2   3    90000.0    2          2         2   34      0      0      0      0   \n",
       "3   4    50000.0    2          2         1   37      0      0      0      0   \n",
       "4   5    50000.0    1          2         1   57     -1      0     -1      0   \n",
       "\n",
       "              ...              BILL_AMT4  BILL_AMT5  BILL_AMT6  PAY_AMT1  \\\n",
       "0             ...                    0.0        0.0        0.0       0.0   \n",
       "1             ...                 3272.0     3455.0     3261.0       0.0   \n",
       "2             ...                14331.0    14948.0    15549.0    1518.0   \n",
       "3             ...                28314.0    28959.0    29547.0    2000.0   \n",
       "4             ...                20940.0    19146.0    19131.0    2000.0   \n",
       "\n",
       "   PAY_AMT2  PAY_AMT3  PAY_AMT4  PAY_AMT5  PAY_AMT6  \\\n",
       "0     689.0       0.0       0.0       0.0       0.0   \n",
       "1    1000.0    1000.0    1000.0       0.0    2000.0   \n",
       "2    1500.0    1000.0    1000.0    1000.0    5000.0   \n",
       "3    2019.0    1200.0    1100.0    1069.0    1000.0   \n",
       "4   36681.0   10000.0    9000.0     689.0     679.0   \n",
       "\n",
       "   default.payment.next.month  \n",
       "0                           1  \n",
       "1                           1  \n",
       "2                           0  \n",
       "3                           0  \n",
       "4                           0  \n",
       "\n",
       "[5 rows x 25 columns]"
      ]
     },
     "execution_count": 2,
     "metadata": {},
     "output_type": "execute_result"
    }
   ],
   "source": [
    "data = pd.read_csv(\"C:/Users/USER/Desktop/UCI_Credit_Card.csv (1)/UCI_Credit_Card.csv\")\n",
    "data.head()"
   ]
  },
  {
   "cell_type": "markdown",
   "metadata": {},
   "source": [
    "## 個人習慣,將性別女性改為0"
   ]
  },
  {
   "cell_type": "code",
   "execution_count": 3,
   "metadata": {
    "collapsed": true
   },
   "outputs": [],
   "source": [
    "#將女性的類別取代為0\n",
    "data[\"SEX\"] = data[\"SEX\"].replace(2,0)"
   ]
  },
  {
   "cell_type": "markdown",
   "metadata": {},
   "source": [
    "## 將default.payment.next.month改為default"
   ]
  },
  {
   "cell_type": "code",
   "execution_count": 4,
   "metadata": {
    "collapsed": true
   },
   "outputs": [],
   "source": [
    "data.rename(columns={data.columns[24]:\"default\"},inplace=True)"
   ]
  },
  {
   "cell_type": "code",
   "execution_count": 5,
   "metadata": {},
   "outputs": [
    {
     "data": {
      "text/plain": [
       "array(['ID', 'LIMIT_BAL', 'SEX', 'EDUCATION', 'MARRIAGE', 'AGE', 'PAY_0',\n",
       "       'PAY_2', 'PAY_3', 'PAY_4', 'PAY_5', 'PAY_6', 'BILL_AMT1',\n",
       "       'BILL_AMT2', 'BILL_AMT3', 'BILL_AMT4', 'BILL_AMT5', 'BILL_AMT6',\n",
       "       'PAY_AMT1', 'PAY_AMT2', 'PAY_AMT3', 'PAY_AMT4', 'PAY_AMT5',\n",
       "       'PAY_AMT6', 'default'], dtype=object)"
      ]
     },
     "execution_count": 5,
     "metadata": {},
     "output_type": "execute_result"
    }
   ],
   "source": [
    "data.columns.values"
   ]
  },
  {
   "cell_type": "markdown",
   "metadata": {},
   "source": [
    "# 資料觀察"
   ]
  },
  {
   "cell_type": "markdown",
   "metadata": {},
   "source": [
    "## 觀察一下default的情況"
   ]
  },
  {
   "cell_type": "code",
   "execution_count": 6,
   "metadata": {},
   "outputs": [
    {
     "name": "stdout",
     "output_type": "stream",
     "text": [
      "違約比例 :  0.2212\n"
     ]
    },
    {
     "data": {
      "image/png": "[encoded data removed]",
      "text/plain": [
       "<matplotlib.figure.Figure at 0x1adf9e906d8>"
      ]
     },
     "metadata": {},
     "output_type": "display_data"
    }
   ],
   "source": [
    "sns.set(style=\"darkgrid\")\n",
    "sns.countplot(data[\"default\"])\n",
    "undefault = data.groupby(by = \"default\").size()[0]\n",
    "default = data.groupby(by = \"default\").size()[1]\n",
    "default = default/(default+undefault)\n",
    "print(\"違約比例 : \",default)"
   ]
  },
  {
   "cell_type": "markdown",
   "metadata": {},
   "source": [
    "### 資料集為不平衡資料集,結果為1的比例僅有0.2212"
   ]
  },
  {
   "cell_type": "markdown",
   "metadata": {},
   "source": [
    "## 定義一個函數來觀察參數之間的關係"
   ]
  },
  {
   "cell_type": "code",
   "execution_count": 7,
   "metadata": {
    "collapsed": true
   },
   "outputs": [],
   "source": [
    "def group_per (data,col1,col2) :\n",
    "    df = data.groupby(by = [col1,col2]).size().unstack(1)\n",
    "    df[\"Sum\"] = df[df.columns[0]] + df[df.columns[1]]\n",
    "    df[\"Per\"] = df[df.columns[1]]/(df[df.columns[0]]+df[df.columns[1]]) \n",
    "    df.sort_values(by=\"Per\")\n",
    "    return df"
   ]
  },
  {
   "cell_type": "markdown",
   "metadata": {},
   "source": [
    "## 性別之於default的關係"
   ]
  },
  {
   "cell_type": "code",
   "execution_count": 8,
   "metadata": {},
   "outputs": [
    {
     "data": {
      "text/plain": [
       "<matplotlib.axes._subplots.AxesSubplot at 0x1adfa2bf2e8>"
      ]
     },
     "execution_count": 8,
     "metadata": {},
     "output_type": "execute_result"
    },
    {
     "data": {
      "image/png": "[encoded data removed]",
      "text/plain": [
       "<matplotlib.figure.Figure at 0x1adfa275dd8>"
      ]
     },
     "metadata": {},
     "output_type": "display_data"
    }
   ],
   "source": [
    "sns.countplot(data[\"SEX\"],hue = data[\"default\"])\n"
   ]
  },
  {
   "cell_type": "code",
   "execution_count": 9,
   "metadata": {},
   "outputs": [
    {
     "data": {
      "text/html": [
       "<div>\n",
       "<style>\n",
       "    .dataframe thead tr:only-child th {\n",
       "        text-align: right;\n",
       "    }\n",
       "\n",
       "    .dataframe thead th {\n",
       "        text-align: left;\n",
       "    }\n",
       "\n",
       "    .dataframe tbody tr th {\n",
       "        vertical-align: top;\n",
       "    }\n",
       "</style>\n",
       "<table border=\"1\" class=\"dataframe\">\n",
       "  <thead>\n",
       "    <tr style=\"text-align: right;\">\n",
       "      <th>default</th>\n",
       "      <th>0</th>\n",
       "      <th>1</th>\n",
       "      <th>Sum</th>\n",
       "      <th>Per</th>\n",
       "    </tr>\n",
       "    <tr>\n",
       "      <th>SEX</th>\n",
       "      <th></th>\n",
       "      <th></th>\n",
       "      <th></th>\n",
       "      <th></th>\n",
       "    </tr>\n",
       "  </thead>\n",
       "  <tbody>\n",
       "    <tr>\n",
       "      <th>0</th>\n",
       "      <td>14349</td>\n",
       "      <td>3763</td>\n",
       "      <td>18112</td>\n",
       "      <td>0.207763</td>\n",
       "    </tr>\n",
       "    <tr>\n",
       "      <th>1</th>\n",
       "      <td>9015</td>\n",
       "      <td>2873</td>\n",
       "      <td>11888</td>\n",
       "      <td>0.241672</td>\n",
       "    </tr>\n",
       "  </tbody>\n",
       "</table>\n",
       "</div>"
      ],
      "text/plain": [
       "default      0     1    Sum       Per\n",
       "SEX                                  \n",
       "0        14349  3763  18112  0.207763\n",
       "1         9015  2873  11888  0.241672"
      ]
     },
     "execution_count": 9,
     "metadata": {},
     "output_type": "execute_result"
    }
   ],
   "source": [
    "group_per(data,\"SEX\",\"default\")"
   ]
  },
  {
   "cell_type": "markdown",
   "metadata": {},
   "source": [
    "## 發現 :\n",
    "* 男性的default比例為0.2416\n",
    "* 女性的default比例為0.2077\n",
    "* 男性的default稍高"
   ]
  },
  {
   "cell_type": "markdown",
   "metadata": {},
   "source": [
    "# 觀察婚姻狀況對於default的影響"
   ]
  },
  {
   "cell_type": "code",
   "execution_count": 10,
   "metadata": {},
   "outputs": [
    {
     "data": {
      "text/plain": [
       "2    15964\n",
       "1    13659\n",
       "3      323\n",
       "0       54\n",
       "Name: MARRIAGE, dtype: int64"
      ]
     },
     "execution_count": 10,
     "metadata": {},
     "output_type": "execute_result"
    }
   ],
   "source": [
    "data[\"MARRIAGE\"].value_counts()"
   ]
  },
  {
   "cell_type": "markdown",
   "metadata": {},
   "source": [
    "### 將遺漏值0併入3未知"
   ]
  },
  {
   "cell_type": "code",
   "execution_count": 11,
   "metadata": {},
   "outputs": [
    {
     "data": {
      "text/plain": [
       "<matplotlib.axes._subplots.AxesSubplot at 0x1adfa9fec50>"
      ]
     },
     "execution_count": 11,
     "metadata": {},
     "output_type": "execute_result"
    },
    {
     "data": {
      "image/png": "[encoded data removed]",
      "text/plain": [
       "<matplotlib.figure.Figure at 0x1adfa9ed6d8>"
      ]
     },
     "metadata": {},
     "output_type": "display_data"
    }
   ],
   "source": [
    "data[\"MARRIAGE\"]=data[\"MARRIAGE\"].replace(0,3)\n",
    "data[\"marriage\"] = data[\"MARRIAGE\"].replace([1,2,3],[\"marriged\",\"single\",\"unknow\"])\n",
    "sns.countplot(data[\"marriage\"],hue=data[\"default\"])"
   ]
  },
  {
   "cell_type": "code",
   "execution_count": 12,
   "metadata": {
    "collapsed": true
   },
   "outputs": [],
   "source": [
    "marriage = group_per(data,\"marriage\",\"default\")\n"
   ]
  },
  {
   "cell_type": "markdown",
   "metadata": {},
   "source": [
    "## 發現:\n",
    "* 已婚的違約率略高於單身\n",
    "* unknow的違約率也頗高,但目前還不知道代表的族群 也許是離婚?"
   ]
  },
  {
   "cell_type": "markdown",
   "metadata": {},
   "source": [
    "## 對教育程度做一些觀察"
   ]
  },
  {
   "cell_type": "markdown",
   "metadata": {},
   "source": [
    "### 將未知意義的5,6,0併入4(OTHER)"
   ]
  },
  {
   "cell_type": "code",
   "execution_count": 13,
   "metadata": {},
   "outputs": [
    {
     "data": {
      "image/png": "[encoded data removed]",
      "text/plain": [
       "<matplotlib.figure.Figure at 0x1adfa9e1550>"
      ]
     },
     "metadata": {},
     "output_type": "display_data"
    }
   ],
   "source": [
    "data[\"EDUCATION\"] = data[\"EDUCATION\"].replace([5,6,0],[4,4,4])\n",
    "data[\"education\"] = data[\"EDUCATION\"].replace([1,2,3,4],[\"Gradution\",\"University\",\"High_School\",\"Other\"])\n",
    "sns.countplot(data[\"education\"])\n",
    "sns.set(style=\"darkgrid\")"
   ]
  },
  {
   "cell_type": "code",
   "execution_count": 14,
   "metadata": {},
   "outputs": [
    {
     "data": {
      "text/html": [
       "<div>\n",
       "<style>\n",
       "    .dataframe thead tr:only-child th {\n",
       "        text-align: right;\n",
       "    }\n",
       "\n",
       "    .dataframe thead th {\n",
       "        text-align: left;\n",
       "    }\n",
       "\n",
       "    .dataframe tbody tr th {\n",
       "        vertical-align: top;\n",
       "    }\n",
       "</style>\n",
       "<table border=\"1\" class=\"dataframe\">\n",
       "  <thead>\n",
       "    <tr style=\"text-align: right;\">\n",
       "      <th>default</th>\n",
       "      <th>0</th>\n",
       "      <th>1</th>\n",
       "      <th>Sum</th>\n",
       "      <th>Per</th>\n",
       "    </tr>\n",
       "    <tr>\n",
       "      <th>education</th>\n",
       "      <th></th>\n",
       "      <th></th>\n",
       "      <th></th>\n",
       "      <th></th>\n",
       "    </tr>\n",
       "  </thead>\n",
       "  <tbody>\n",
       "    <tr>\n",
       "      <th>Other</th>\n",
       "      <td>435</td>\n",
       "      <td>33</td>\n",
       "      <td>468</td>\n",
       "      <td>0.070513</td>\n",
       "    </tr>\n",
       "    <tr>\n",
       "      <th>Gradution</th>\n",
       "      <td>8549</td>\n",
       "      <td>2036</td>\n",
       "      <td>10585</td>\n",
       "      <td>0.192348</td>\n",
       "    </tr>\n",
       "    <tr>\n",
       "      <th>University</th>\n",
       "      <td>10700</td>\n",
       "      <td>3330</td>\n",
       "      <td>14030</td>\n",
       "      <td>0.237349</td>\n",
       "    </tr>\n",
       "    <tr>\n",
       "      <th>High_School</th>\n",
       "      <td>3680</td>\n",
       "      <td>1237</td>\n",
       "      <td>4917</td>\n",
       "      <td>0.251576</td>\n",
       "    </tr>\n",
       "  </tbody>\n",
       "</table>\n",
       "</div>"
      ],
      "text/plain": [
       "default          0     1    Sum       Per\n",
       "education                                \n",
       "Other          435    33    468  0.070513\n",
       "Gradution     8549  2036  10585  0.192348\n",
       "University   10700  3330  14030  0.237349\n",
       "High_School   3680  1237   4917  0.251576"
      ]
     },
     "execution_count": 14,
     "metadata": {},
     "output_type": "execute_result"
    }
   ],
   "source": [
    "education = group_per(data,\"education\",\"default\")\n",
    "education.sort_values(by = \"Per\")"
   ]
  },
  {
   "cell_type": "markdown",
   "metadata": {},
   "source": [
    "## 發現 :\n",
    "* 所有借款人中大學生較多\n",
    "* 高中學歷借款defult的機率最高 達0.25\n",
    "* 次之的是大學生達0.23"
   ]
  },
  {
   "cell_type": "markdown",
   "metadata": {},
   "source": [
    "## 對年齡做一些觀察"
   ]
  },
  {
   "cell_type": "code",
   "execution_count": 15,
   "metadata": {},
   "outputs": [
    {
     "data": {
      "text/plain": [
       "<matplotlib.axes._subplots.AxesSubplot at 0x1adfa2453c8>"
      ]
     },
     "execution_count": 15,
     "metadata": {},
     "output_type": "execute_result"
    },
    {
     "data": {
      "image/png": "[encoded data removed]",
      "text/plain": [
       "<matplotlib.figure.Figure at 0x1adfaa34668>"
      ]
     },
     "metadata": {},
     "output_type": "display_data"
    }
   ],
   "source": [
    "sns.distplot(data[\"AGE\"],kde=True)"
   ]
  },
  {
   "cell_type": "markdown",
   "metadata": {},
   "source": [
    "## 將年齡做區間化以利看出各區間的defult機率差別\n"
   ]
  },
  {
   "cell_type": "code",
   "execution_count": 16,
   "metadata": {},
   "outputs": [
    {
     "data": {
      "text/plain": [
       "<matplotlib.axes._subplots.AxesSubplot at 0x1adfacd4ac8>"
      ]
     },
     "execution_count": 16,
     "metadata": {},
     "output_type": "execute_result"
    },
    {
     "data": {
      "image/png": "[encoded data removed]",
      "text/plain": [
       "<matplotlib.figure.Figure at 0x1adfa2bf4a8>"
      ]
     },
     "metadata": {},
     "output_type": "display_data"
    }
   ],
   "source": [
    "data.loc[(21<=data[\"AGE\"])&(30>=data[\"AGE\"]),\"AGE\"]=1\n",
    "data.loc[(31<=data[\"AGE\"])&(40>=data[\"AGE\"]),\"AGE\"]=2\n",
    "data.loc[(41<=data[\"AGE\"])&(50>=data[\"AGE\"]),\"AGE\"]=3\n",
    "data.loc[(51<=data[\"AGE\"])&(60>=data[\"AGE\"]),\"AGE\"]=4\n",
    "data.loc[(61<=data[\"AGE\"])&(70>=data[\"AGE\"]),\"AGE\"]=5\n",
    "data.loc[(71<=data[\"AGE\"])&(80>=data[\"AGE\"]),\"AGE\"]=6\n",
    "\n",
    "sns.countplot(data[\"AGE\"])"
   ]
  },
  {
   "cell_type": "code",
   "execution_count": 17,
   "metadata": {},
   "outputs": [
    {
     "data": {
      "text/plain": [
       "1    11013\n",
       "2    10713\n",
       "3     6005\n",
       "4     1997\n",
       "5      257\n",
       "6       15\n",
       "Name: AGE, dtype: int64"
      ]
     },
     "execution_count": 17,
     "metadata": {},
     "output_type": "execute_result"
    }
   ],
   "source": [
    "data[\"AGE\"].value_counts()"
   ]
  },
  {
   "cell_type": "markdown",
   "metadata": {},
   "source": [
    "## 將70~80歲(6)與60~70歲(5)合併成--->60歲以上(5)"
   ]
  },
  {
   "cell_type": "code",
   "execution_count": 18,
   "metadata": {
    "scrolled": false
   },
   "outputs": [
    {
     "data": {
      "text/plain": [
       "<matplotlib.axes._subplots.AxesSubplot at 0x1adfab2a828>"
      ]
     },
     "execution_count": 18,
     "metadata": {},
     "output_type": "execute_result"
    },
    {
     "data": {
      "image/png": "[encoded data removed]",
      "text/plain": [
       "<matplotlib.figure.Figure at 0x1adfaac5d68>"
      ]
     },
     "metadata": {},
     "output_type": "display_data"
    }
   ],
   "source": [
    "data[\"AGE\"] = data[\"AGE\"].replace(6,5)\n",
    "data[\"AGE\"].value_counts()\n",
    "sns.countplot(data[\"AGE\"])"
   ]
  },
  {
   "cell_type": "code",
   "execution_count": 19,
   "metadata": {},
   "outputs": [
    {
     "data": {
      "text/html": [
       "<div>\n",
       "<style>\n",
       "    .dataframe thead tr:only-child th {\n",
       "        text-align: right;\n",
       "    }\n",
       "\n",
       "    .dataframe thead th {\n",
       "        text-align: left;\n",
       "    }\n",
       "\n",
       "    .dataframe tbody tr th {\n",
       "        vertical-align: top;\n",
       "    }\n",
       "</style>\n",
       "<table border=\"1\" class=\"dataframe\">\n",
       "  <thead>\n",
       "    <tr style=\"text-align: right;\">\n",
       "      <th>default</th>\n",
       "      <th>0</th>\n",
       "      <th>1</th>\n",
       "      <th>Sum</th>\n",
       "      <th>Per</th>\n",
       "      <th>Describe</th>\n",
       "    </tr>\n",
       "    <tr>\n",
       "      <th>AGE</th>\n",
       "      <th></th>\n",
       "      <th></th>\n",
       "      <th></th>\n",
       "      <th></th>\n",
       "      <th></th>\n",
       "    </tr>\n",
       "  </thead>\n",
       "  <tbody>\n",
       "    <tr>\n",
       "      <th>2</th>\n",
       "      <td>8524</td>\n",
       "      <td>2189</td>\n",
       "      <td>10713</td>\n",
       "      <td>0.204331</td>\n",
       "      <td>30~40</td>\n",
       "    </tr>\n",
       "    <tr>\n",
       "      <th>1</th>\n",
       "      <td>8542</td>\n",
       "      <td>2471</td>\n",
       "      <td>11013</td>\n",
       "      <td>0.224371</td>\n",
       "      <td>20~30</td>\n",
       "    </tr>\n",
       "    <tr>\n",
       "      <th>3</th>\n",
       "      <td>4606</td>\n",
       "      <td>1399</td>\n",
       "      <td>6005</td>\n",
       "      <td>0.232973</td>\n",
       "      <td>40~50</td>\n",
       "    </tr>\n",
       "    <tr>\n",
       "      <th>4</th>\n",
       "      <td>1493</td>\n",
       "      <td>504</td>\n",
       "      <td>1997</td>\n",
       "      <td>0.252379</td>\n",
       "      <td>50~60</td>\n",
       "    </tr>\n",
       "    <tr>\n",
       "      <th>5</th>\n",
       "      <td>199</td>\n",
       "      <td>73</td>\n",
       "      <td>272</td>\n",
       "      <td>0.268382</td>\n",
       "      <td>60~</td>\n",
       "    </tr>\n",
       "  </tbody>\n",
       "</table>\n",
       "</div>"
      ],
      "text/plain": [
       "default     0     1    Sum       Per Describe\n",
       "AGE                                          \n",
       "2        8524  2189  10713  0.204331    30~40\n",
       "1        8542  2471  11013  0.224371    20~30\n",
       "3        4606  1399   6005  0.232973    40~50\n",
       "4        1493   504   1997  0.252379    50~60\n",
       "5         199    73    272  0.268382      60~"
      ]
     },
     "execution_count": 19,
     "metadata": {},
     "output_type": "execute_result"
    }
   ],
   "source": [
    "age = group_per(data,\"AGE\",\"default\")\n",
    "age[\"Describe\"]=[\"20~30\",\"30~40\",\"40~50\",\"50~60\",\"60~\"]\n",
    "age.sort_values(by=\"Per\")"
   ]
  },
  {
   "cell_type": "markdown",
   "metadata": {},
   "source": [
    "## 發現 :\n",
    "* 借款人的年齡分布高峰是在20~30歲 隨著年齡越大開始遞減\n",
    "* 40歲開始年紀越大有越容易defult的趨勢\n"
   ]
  },
  {
   "cell_type": "markdown",
   "metadata": {},
   "source": [
    "## 對信用額度做一些觀察"
   ]
  },
  {
   "cell_type": "code",
   "execution_count": 20,
   "metadata": {},
   "outputs": [
    {
     "data": {
      "image/png": "[encoded data removed]",
      "text/plain": [
       "<matplotlib.figure.Figure at 0x1adfad4d470>"
      ]
     },
     "metadata": {},
     "output_type": "display_data"
    }
   ],
   "source": [
    "sns.distplot(data[\"LIMIT_BAL\"],kde=False)\n",
    "sns.set(font_scale=1.2)"
   ]
  },
  {
   "cell_type": "code",
   "execution_count": 21,
   "metadata": {},
   "outputs": [
    {
     "data": {
      "text/html": [
       "<div>\n",
       "<style>\n",
       "    .dataframe thead tr:only-child th {\n",
       "        text-align: right;\n",
       "    }\n",
       "\n",
       "    .dataframe thead th {\n",
       "        text-align: left;\n",
       "    }\n",
       "\n",
       "    .dataframe tbody tr th {\n",
       "        vertical-align: top;\n",
       "    }\n",
       "</style>\n",
       "<table border=\"1\" class=\"dataframe\">\n",
       "  <thead>\n",
       "    <tr style=\"text-align: right;\">\n",
       "      <th>default</th>\n",
       "      <th>0</th>\n",
       "      <th>1</th>\n",
       "      <th>Sum</th>\n",
       "      <th>Per</th>\n",
       "      <th>Range</th>\n",
       "    </tr>\n",
       "    <tr>\n",
       "      <th>limit_bal_lavel</th>\n",
       "      <th></th>\n",
       "      <th></th>\n",
       "      <th></th>\n",
       "      <th></th>\n",
       "      <th></th>\n",
       "    </tr>\n",
       "  </thead>\n",
       "  <tbody>\n",
       "    <tr>\n",
       "      <th>10</th>\n",
       "      <td>2182</td>\n",
       "      <td>294</td>\n",
       "      <td>2476</td>\n",
       "      <td>0.118740</td>\n",
       "      <td>(360000.0, 1000000.0]</td>\n",
       "    </tr>\n",
       "    <tr>\n",
       "      <th>9</th>\n",
       "      <td>2954</td>\n",
       "      <td>528</td>\n",
       "      <td>3482</td>\n",
       "      <td>0.151637</td>\n",
       "      <td>(270000.0, 360000.0]</td>\n",
       "    </tr>\n",
       "    <tr>\n",
       "      <th>8</th>\n",
       "      <td>2456</td>\n",
       "      <td>478</td>\n",
       "      <td>2934</td>\n",
       "      <td>0.162918</td>\n",
       "      <td>(210000.0, 270000.0]</td>\n",
       "    </tr>\n",
       "    <tr>\n",
       "      <th>6</th>\n",
       "      <td>2753</td>\n",
       "      <td>578</td>\n",
       "      <td>3331</td>\n",
       "      <td>0.173521</td>\n",
       "      <td>(140000.0, 180000.0]</td>\n",
       "    </tr>\n",
       "    <tr>\n",
       "      <th>7</th>\n",
       "      <td>2051</td>\n",
       "      <td>436</td>\n",
       "      <td>2487</td>\n",
       "      <td>0.175312</td>\n",
       "      <td>(180000.0, 210000.0]</td>\n",
       "    </tr>\n",
       "    <tr>\n",
       "      <th>5</th>\n",
       "      <td>2154</td>\n",
       "      <td>638</td>\n",
       "      <td>2792</td>\n",
       "      <td>0.228510</td>\n",
       "      <td>(100000.0, 140000.0]</td>\n",
       "    </tr>\n",
       "    <tr>\n",
       "      <th>4</th>\n",
       "      <td>2465</td>\n",
       "      <td>801</td>\n",
       "      <td>3266</td>\n",
       "      <td>0.245254</td>\n",
       "      <td>(70000.0, 100000.0]</td>\n",
       "    </tr>\n",
       "    <tr>\n",
       "      <th>2</th>\n",
       "      <td>2618</td>\n",
       "      <td>977</td>\n",
       "      <td>3595</td>\n",
       "      <td>0.271766</td>\n",
       "      <td>(30000.0, 50000.0]</td>\n",
       "    </tr>\n",
       "    <tr>\n",
       "      <th>3</th>\n",
       "      <td>1113</td>\n",
       "      <td>443</td>\n",
       "      <td>1556</td>\n",
       "      <td>0.284704</td>\n",
       "      <td>(50000.0, 70000.0]</td>\n",
       "    </tr>\n",
       "    <tr>\n",
       "      <th>1</th>\n",
       "      <td>2618</td>\n",
       "      <td>1463</td>\n",
       "      <td>4081</td>\n",
       "      <td>0.358491</td>\n",
       "      <td>(9999.999, 30000.0]</td>\n",
       "    </tr>\n",
       "  </tbody>\n",
       "</table>\n",
       "</div>"
      ],
      "text/plain": [
       "default             0     1   Sum       Per                  Range\n",
       "limit_bal_lavel                                                   \n",
       "10               2182   294  2476  0.118740  (360000.0, 1000000.0]\n",
       "9                2954   528  3482  0.151637   (270000.0, 360000.0]\n",
       "8                2456   478  2934  0.162918   (210000.0, 270000.0]\n",
       "6                2753   578  3331  0.173521   (140000.0, 180000.0]\n",
       "7                2051   436  2487  0.175312   (180000.0, 210000.0]\n",
       "5                2154   638  2792  0.228510   (100000.0, 140000.0]\n",
       "4                2465   801  3266  0.245254    (70000.0, 100000.0]\n",
       "2                2618   977  3595  0.271766     (30000.0, 50000.0]\n",
       "3                1113   443  1556  0.284704     (50000.0, 70000.0]\n",
       "1                2618  1463  4081  0.358491    (9999.999, 30000.0]"
      ]
     },
     "execution_count": 21,
     "metadata": {},
     "output_type": "execute_result"
    }
   ],
   "source": [
    "data['limit_bal_lavel'] = pd.qcut(data[\"LIMIT_BAL\"], 10,labels=[1,2,3,4,5,6,7,8,9,10])\n",
    "\n",
    "limit = group_per(data,'limit_bal_lavel',\"default\")\n",
    "limit[\"Range\"]=[\"(9999.999, 30000.0]\", \"(30000.0, 50000.0]\",\"(50000.0, 70000.0]\", \n",
    "                \"(70000.0, 100000.0]\",\"(100000.0, 140000.0]\",\n",
    "                 \"(140000.0, 180000.0]\", \"(180000.0, 210000.0]\",\n",
    "                \"(210000.0, 270000.0]\", \"(270000.0, 360000.0]\",\"(360000.0, 1000000.0]\" ]\n",
    "limit.sort_values(by=\"Per\")\n"
   ]
  },
  {
   "cell_type": "code",
   "execution_count": 22,
   "metadata": {},
   "outputs": [
    {
     "data": {
      "text/plain": [
       "<matplotlib.axes._subplots.AxesSubplot at 0x1adfad8cdd8>"
      ]
     },
     "execution_count": 22,
     "metadata": {},
     "output_type": "execute_result"
    },
    {
     "data": {
      "image/png": "[encoded data removed]",
      "text/plain": [
       "<matplotlib.figure.Figure at 0x1adfa269dd8>"
      ]
     },
     "metadata": {},
     "output_type": "display_data"
    }
   ],
   "source": [
    "sns.countplot(data['limit_bal_lavel'])"
   ]
  },
  {
   "cell_type": "markdown",
   "metadata": {},
   "source": [
    "## 發現 :\n",
    "* 大部分的借款人之信用額度集中在20萬以下\n",
    "* 大致上信用額度越高的人越不容易發生default\n"
   ]
  },
  {
   "cell_type": "markdown",
   "metadata": {},
   "source": [
    "## 對PAY_ 系列做一些觀察"
   ]
  },
  {
   "cell_type": "code",
   "execution_count": 23,
   "metadata": {},
   "outputs": [
    {
     "data": {
      "text/plain": [
       " 0    14737\n",
       "-1     5686\n",
       " 1     3688\n",
       "-2     2759\n",
       " 2     2667\n",
       " 3      322\n",
       " 4       76\n",
       " 5       26\n",
       " 8       19\n",
       " 6       11\n",
       " 7        9\n",
       "Name: PAY_0, dtype: int64"
      ]
     },
     "execution_count": 23,
     "metadata": {},
     "output_type": "execute_result"
    }
   ],
   "source": [
    "data[\"PAY_0\"].value_counts()"
   ]
  },
  {
   "cell_type": "markdown",
   "metadata": {},
   "source": [
    "## PAY_系列dataset來源沒有解釋得很清楚,經由一些網友寄email詢問作者的回覆以及自己研究了一下我個人理解裡面的值代表該月份的償還狀況 :\n",
    "* -2 : 到該月為止帳戶沒有消費紀錄,可以理解成卡片在該月份沒有在使用\n",
    "* -1 : 代表該帳戶當月的費用當月就結清,沒有未繳的款項\n",
    "*  0 : 代表該帳戶當月帳款只有付最低應繳款,其餘未繳款併入下個月做循環利息,但有繳足最低應付款項不算違約\n",
    "*  1 : 代表此帳戶截至該月份已經拖欠繳款(未繳足最低應付款)達1個月\n",
    "*  2 : 代表此帳戶截至該月份已經拖欠繳款(未繳足最低應付款)達2個月\n",
    "*  依此類推\n",
    "\n",
    "## 因此default應該是指違約(未繳足最低應繳款)的事件"
   ]
  },
  {
   "cell_type": "code",
   "execution_count": 24,
   "metadata": {},
   "outputs": [
    {
     "data": {
      "text/html": [
       "<div>\n",
       "<style>\n",
       "    .dataframe thead tr:only-child th {\n",
       "        text-align: right;\n",
       "    }\n",
       "\n",
       "    .dataframe thead th {\n",
       "        text-align: left;\n",
       "    }\n",
       "\n",
       "    .dataframe tbody tr th {\n",
       "        vertical-align: top;\n",
       "    }\n",
       "</style>\n",
       "<table border=\"1\" class=\"dataframe\">\n",
       "  <thead>\n",
       "    <tr style=\"text-align: right;\">\n",
       "      <th>default</th>\n",
       "      <th>0</th>\n",
       "      <th>1</th>\n",
       "      <th>Sum</th>\n",
       "      <th>Per</th>\n",
       "    </tr>\n",
       "    <tr>\n",
       "      <th>PAY_0</th>\n",
       "      <th></th>\n",
       "      <th></th>\n",
       "      <th></th>\n",
       "      <th></th>\n",
       "    </tr>\n",
       "  </thead>\n",
       "  <tbody>\n",
       "    <tr>\n",
       "      <th>0</th>\n",
       "      <td>12849</td>\n",
       "      <td>1888</td>\n",
       "      <td>14737</td>\n",
       "      <td>0.128113</td>\n",
       "    </tr>\n",
       "    <tr>\n",
       "      <th>-2</th>\n",
       "      <td>2394</td>\n",
       "      <td>365</td>\n",
       "      <td>2759</td>\n",
       "      <td>0.132294</td>\n",
       "    </tr>\n",
       "    <tr>\n",
       "      <th>-1</th>\n",
       "      <td>4732</td>\n",
       "      <td>954</td>\n",
       "      <td>5686</td>\n",
       "      <td>0.167781</td>\n",
       "    </tr>\n",
       "    <tr>\n",
       "      <th>1</th>\n",
       "      <td>2436</td>\n",
       "      <td>1252</td>\n",
       "      <td>3688</td>\n",
       "      <td>0.339479</td>\n",
       "    </tr>\n",
       "    <tr>\n",
       "      <th>5</th>\n",
       "      <td>13</td>\n",
       "      <td>13</td>\n",
       "      <td>26</td>\n",
       "      <td>0.500000</td>\n",
       "    </tr>\n",
       "    <tr>\n",
       "      <th>6</th>\n",
       "      <td>5</td>\n",
       "      <td>6</td>\n",
       "      <td>11</td>\n",
       "      <td>0.545455</td>\n",
       "    </tr>\n",
       "    <tr>\n",
       "      <th>8</th>\n",
       "      <td>8</td>\n",
       "      <td>11</td>\n",
       "      <td>19</td>\n",
       "      <td>0.578947</td>\n",
       "    </tr>\n",
       "    <tr>\n",
       "      <th>4</th>\n",
       "      <td>24</td>\n",
       "      <td>52</td>\n",
       "      <td>76</td>\n",
       "      <td>0.684211</td>\n",
       "    </tr>\n",
       "    <tr>\n",
       "      <th>2</th>\n",
       "      <td>823</td>\n",
       "      <td>1844</td>\n",
       "      <td>2667</td>\n",
       "      <td>0.691414</td>\n",
       "    </tr>\n",
       "    <tr>\n",
       "      <th>3</th>\n",
       "      <td>78</td>\n",
       "      <td>244</td>\n",
       "      <td>322</td>\n",
       "      <td>0.757764</td>\n",
       "    </tr>\n",
       "    <tr>\n",
       "      <th>7</th>\n",
       "      <td>2</td>\n",
       "      <td>7</td>\n",
       "      <td>9</td>\n",
       "      <td>0.777778</td>\n",
       "    </tr>\n",
       "  </tbody>\n",
       "</table>\n",
       "</div>"
      ],
      "text/plain": [
       "default      0     1    Sum       Per\n",
       "PAY_0                                \n",
       " 0       12849  1888  14737  0.128113\n",
       "-2        2394   365   2759  0.132294\n",
       "-1        4732   954   5686  0.167781\n",
       " 1        2436  1252   3688  0.339479\n",
       " 5          13    13     26  0.500000\n",
       " 6           5     6     11  0.545455\n",
       " 8           8    11     19  0.578947\n",
       " 4          24    52     76  0.684211\n",
       " 2         823  1844   2667  0.691414\n",
       " 3          78   244    322  0.757764\n",
       " 7           2     7      9  0.777778"
      ]
     },
     "execution_count": 24,
     "metadata": {},
     "output_type": "execute_result"
    }
   ],
   "source": [
    "group_per(data,\"PAY_0\",\"default\").sort_values(by = \"Per\")"
   ]
  },
  {
   "cell_type": "code",
   "execution_count": 25,
   "metadata": {},
   "outputs": [
    {
     "data": {
      "text/html": [
       "<div>\n",
       "<style>\n",
       "    .dataframe thead tr:only-child th {\n",
       "        text-align: right;\n",
       "    }\n",
       "\n",
       "    .dataframe thead th {\n",
       "        text-align: left;\n",
       "    }\n",
       "\n",
       "    .dataframe tbody tr th {\n",
       "        vertical-align: top;\n",
       "    }\n",
       "</style>\n",
       "<table border=\"1\" class=\"dataframe\">\n",
       "  <thead>\n",
       "    <tr style=\"text-align: right;\">\n",
       "      <th>default</th>\n",
       "      <th>0</th>\n",
       "      <th>1</th>\n",
       "      <th>Sum</th>\n",
       "      <th>Per</th>\n",
       "    </tr>\n",
       "    <tr>\n",
       "      <th>PAY_2</th>\n",
       "      <th></th>\n",
       "      <th></th>\n",
       "      <th></th>\n",
       "      <th></th>\n",
       "    </tr>\n",
       "  </thead>\n",
       "  <tbody>\n",
       "    <tr>\n",
       "      <th>0</th>\n",
       "      <td>13227.0</td>\n",
       "      <td>2503.0</td>\n",
       "      <td>15730.0</td>\n",
       "      <td>0.159123</td>\n",
       "    </tr>\n",
       "    <tr>\n",
       "      <th>-1</th>\n",
       "      <td>5084.0</td>\n",
       "      <td>966.0</td>\n",
       "      <td>6050.0</td>\n",
       "      <td>0.159669</td>\n",
       "    </tr>\n",
       "    <tr>\n",
       "      <th>1</th>\n",
       "      <td>23.0</td>\n",
       "      <td>5.0</td>\n",
       "      <td>28.0</td>\n",
       "      <td>0.178571</td>\n",
       "    </tr>\n",
       "    <tr>\n",
       "      <th>-2</th>\n",
       "      <td>3091.0</td>\n",
       "      <td>691.0</td>\n",
       "      <td>3782.0</td>\n",
       "      <td>0.182708</td>\n",
       "    </tr>\n",
       "    <tr>\n",
       "      <th>4</th>\n",
       "      <td>49.0</td>\n",
       "      <td>50.0</td>\n",
       "      <td>99.0</td>\n",
       "      <td>0.505051</td>\n",
       "    </tr>\n",
       "    <tr>\n",
       "      <th>2</th>\n",
       "      <td>1743.0</td>\n",
       "      <td>2184.0</td>\n",
       "      <td>3927.0</td>\n",
       "      <td>0.556150</td>\n",
       "    </tr>\n",
       "    <tr>\n",
       "      <th>5</th>\n",
       "      <td>10.0</td>\n",
       "      <td>15.0</td>\n",
       "      <td>25.0</td>\n",
       "      <td>0.600000</td>\n",
       "    </tr>\n",
       "    <tr>\n",
       "      <th>7</th>\n",
       "      <td>8.0</td>\n",
       "      <td>12.0</td>\n",
       "      <td>20.0</td>\n",
       "      <td>0.600000</td>\n",
       "    </tr>\n",
       "    <tr>\n",
       "      <th>3</th>\n",
       "      <td>125.0</td>\n",
       "      <td>201.0</td>\n",
       "      <td>326.0</td>\n",
       "      <td>0.616564</td>\n",
       "    </tr>\n",
       "    <tr>\n",
       "      <th>6</th>\n",
       "      <td>3.0</td>\n",
       "      <td>9.0</td>\n",
       "      <td>12.0</td>\n",
       "      <td>0.750000</td>\n",
       "    </tr>\n",
       "    <tr>\n",
       "      <th>8</th>\n",
       "      <td>1.0</td>\n",
       "      <td>NaN</td>\n",
       "      <td>NaN</td>\n",
       "      <td>NaN</td>\n",
       "    </tr>\n",
       "  </tbody>\n",
       "</table>\n",
       "</div>"
      ],
      "text/plain": [
       "default        0       1      Sum       Per\n",
       "PAY_2                                      \n",
       " 0       13227.0  2503.0  15730.0  0.159123\n",
       "-1        5084.0   966.0   6050.0  0.159669\n",
       " 1          23.0     5.0     28.0  0.178571\n",
       "-2        3091.0   691.0   3782.0  0.182708\n",
       " 4          49.0    50.0     99.0  0.505051\n",
       " 2        1743.0  2184.0   3927.0  0.556150\n",
       " 5          10.0    15.0     25.0  0.600000\n",
       " 7           8.0    12.0     20.0  0.600000\n",
       " 3         125.0   201.0    326.0  0.616564\n",
       " 6           3.0     9.0     12.0  0.750000\n",
       " 8           1.0     NaN      NaN       NaN"
      ]
     },
     "execution_count": 25,
     "metadata": {},
     "output_type": "execute_result"
    }
   ],
   "source": [
    "group_per(data,\"PAY_2\",\"default\").sort_values(by = \"Per\")"
   ]
  },
  {
   "cell_type": "code",
   "execution_count": 26,
   "metadata": {},
   "outputs": [
    {
     "data": {
      "text/html": [
       "<div>\n",
       "<style>\n",
       "    .dataframe thead tr:only-child th {\n",
       "        text-align: right;\n",
       "    }\n",
       "\n",
       "    .dataframe thead th {\n",
       "        text-align: left;\n",
       "    }\n",
       "\n",
       "    .dataframe tbody tr th {\n",
       "        vertical-align: top;\n",
       "    }\n",
       "</style>\n",
       "<table border=\"1\" class=\"dataframe\">\n",
       "  <thead>\n",
       "    <tr style=\"text-align: right;\">\n",
       "      <th>default</th>\n",
       "      <th>0</th>\n",
       "      <th>1</th>\n",
       "      <th>Sum</th>\n",
       "      <th>Per</th>\n",
       "    </tr>\n",
       "    <tr>\n",
       "      <th>PAY_3</th>\n",
       "      <th></th>\n",
       "      <th></th>\n",
       "      <th></th>\n",
       "      <th></th>\n",
       "    </tr>\n",
       "  </thead>\n",
       "  <tbody>\n",
       "    <tr>\n",
       "      <th>-1</th>\n",
       "      <td>5012</td>\n",
       "      <td>926</td>\n",
       "      <td>5938</td>\n",
       "      <td>0.155945</td>\n",
       "    </tr>\n",
       "    <tr>\n",
       "      <th>0</th>\n",
       "      <td>13013</td>\n",
       "      <td>2751</td>\n",
       "      <td>15764</td>\n",
       "      <td>0.174512</td>\n",
       "    </tr>\n",
       "    <tr>\n",
       "      <th>-2</th>\n",
       "      <td>3328</td>\n",
       "      <td>757</td>\n",
       "      <td>4085</td>\n",
       "      <td>0.185312</td>\n",
       "    </tr>\n",
       "    <tr>\n",
       "      <th>1</th>\n",
       "      <td>3</td>\n",
       "      <td>1</td>\n",
       "      <td>4</td>\n",
       "      <td>0.250000</td>\n",
       "    </tr>\n",
       "    <tr>\n",
       "      <th>2</th>\n",
       "      <td>1850</td>\n",
       "      <td>1969</td>\n",
       "      <td>3819</td>\n",
       "      <td>0.515580</td>\n",
       "    </tr>\n",
       "    <tr>\n",
       "      <th>5</th>\n",
       "      <td>9</td>\n",
       "      <td>12</td>\n",
       "      <td>21</td>\n",
       "      <td>0.571429</td>\n",
       "    </tr>\n",
       "    <tr>\n",
       "      <th>3</th>\n",
       "      <td>102</td>\n",
       "      <td>138</td>\n",
       "      <td>240</td>\n",
       "      <td>0.575000</td>\n",
       "    </tr>\n",
       "    <tr>\n",
       "      <th>4</th>\n",
       "      <td>32</td>\n",
       "      <td>44</td>\n",
       "      <td>76</td>\n",
       "      <td>0.578947</td>\n",
       "    </tr>\n",
       "    <tr>\n",
       "      <th>6</th>\n",
       "      <td>9</td>\n",
       "      <td>14</td>\n",
       "      <td>23</td>\n",
       "      <td>0.608696</td>\n",
       "    </tr>\n",
       "    <tr>\n",
       "      <th>8</th>\n",
       "      <td>1</td>\n",
       "      <td>2</td>\n",
       "      <td>3</td>\n",
       "      <td>0.666667</td>\n",
       "    </tr>\n",
       "    <tr>\n",
       "      <th>7</th>\n",
       "      <td>5</td>\n",
       "      <td>22</td>\n",
       "      <td>27</td>\n",
       "      <td>0.814815</td>\n",
       "    </tr>\n",
       "  </tbody>\n",
       "</table>\n",
       "</div>"
      ],
      "text/plain": [
       "default      0     1    Sum       Per\n",
       "PAY_3                                \n",
       "-1        5012   926   5938  0.155945\n",
       " 0       13013  2751  15764  0.174512\n",
       "-2        3328   757   4085  0.185312\n",
       " 1           3     1      4  0.250000\n",
       " 2        1850  1969   3819  0.515580\n",
       " 5           9    12     21  0.571429\n",
       " 3         102   138    240  0.575000\n",
       " 4          32    44     76  0.578947\n",
       " 6           9    14     23  0.608696\n",
       " 8           1     2      3  0.666667\n",
       " 7           5    22     27  0.814815"
      ]
     },
     "execution_count": 26,
     "metadata": {},
     "output_type": "execute_result"
    }
   ],
   "source": [
    "group_per(data,\"PAY_3\",\"default\").sort_values(by = \"Per\")"
   ]
  },
  {
   "cell_type": "code",
   "execution_count": 27,
   "metadata": {},
   "outputs": [
    {
     "data": {
      "text/plain": [
       "Index(['ID', 'LIMIT_BAL', 'SEX', 'EDUCATION', 'MARRIAGE', 'AGE', 'PAY_0',\n",
       "       'PAY_2', 'PAY_3', 'PAY_4', 'PAY_5', 'PAY_6', 'BILL_AMT1', 'BILL_AMT2',\n",
       "       'BILL_AMT3', 'BILL_AMT4', 'BILL_AMT5', 'BILL_AMT6', 'PAY_AMT1',\n",
       "       'PAY_AMT2', 'PAY_AMT3', 'PAY_AMT4', 'PAY_AMT5', 'PAY_AMT6', 'default',\n",
       "       'marriage', 'education', 'limit_bal_lavel'],\n",
       "      dtype='object')"
      ]
     },
     "execution_count": 27,
     "metadata": {},
     "output_type": "execute_result"
    }
   ],
   "source": [
    "data.columns"
   ]
  },
  {
   "cell_type": "markdown",
   "metadata": {},
   "source": [
    "## 發現 :\n",
    "* 發現不管在過去的哪個月分,只要有出現違約達5個月以上,幾乎要繼續違約的機率非常高"
   ]
  },
  {
   "cell_type": "markdown",
   "metadata": {},
   "source": [
    "##  對BILL_AMT系列作觀察\n"
   ]
  },
  {
   "cell_type": "code",
   "execution_count": 28,
   "metadata": {},
   "outputs": [
    {
     "data": {
      "text/plain": [
       "count     30000.000000\n",
       "mean      51223.330900\n",
       "std       73635.860576\n",
       "min     -165580.000000\n",
       "25%        3558.750000\n",
       "50%       22381.500000\n",
       "75%       67091.000000\n",
       "max      964511.000000\n",
       "Name: BILL_AMT1, dtype: float64"
      ]
     },
     "execution_count": 28,
     "metadata": {},
     "output_type": "execute_result"
    }
   ],
   "source": [
    "data[\"BILL_AMT1\"].describe()"
   ]
  },
  {
   "cell_type": "markdown",
   "metadata": {},
   "source": [
    "## 大部分的帳單都集中在10萬元以下\n",
    "## 問題:\n",
    "* 為何會有負的值?"
   ]
  },
  {
   "cell_type": "markdown",
   "metadata": {},
   "source": [
    "# 對PAY_AMT , BILL_AMT系列一起觀察"
   ]
  },
  {
   "cell_type": "code",
   "execution_count": 29,
   "metadata": {},
   "outputs": [
    {
     "data": {
      "text/plain": [
       "count     30000.000000\n",
       "mean       5663.580500\n",
       "std       16563.280354\n",
       "min           0.000000\n",
       "25%        1000.000000\n",
       "50%        2100.000000\n",
       "75%        5006.000000\n",
       "max      873552.000000\n",
       "Name: PAY_AMT1, dtype: float64"
      ]
     },
     "execution_count": 29,
     "metadata": {},
     "output_type": "execute_result"
    }
   ],
   "source": [
    "data[\"PAY_AMT1\"].describe()"
   ]
  },
  {
   "cell_type": "code",
   "execution_count": 30,
   "metadata": {},
   "outputs": [
    {
     "data": {
      "text/plain": [
       "count    3.000000e+04\n",
       "mean     5.921163e+03\n",
       "std      2.304087e+04\n",
       "min      0.000000e+00\n",
       "25%      8.330000e+02\n",
       "50%      2.009000e+03\n",
       "75%      5.000000e+03\n",
       "max      1.684259e+06\n",
       "Name: PAY_AMT2, dtype: float64"
      ]
     },
     "execution_count": 30,
     "metadata": {},
     "output_type": "execute_result"
    }
   ],
   "source": [
    "data[\"PAY_AMT2\"].describe()"
   ]
  },
  {
   "cell_type": "markdown",
   "metadata": {},
   "source": [
    "## 大部分的付款都集中在1萬元以下\n"
   ]
  },
  {
   "cell_type": "code",
   "execution_count": 31,
   "metadata": {},
   "outputs": [
    {
     "data": {
      "image/png": "[encoded data removed]",
      "text/plain": [
       "<matplotlib.figure.Figure at 0x1adfaec17f0>"
      ]
     },
     "metadata": {},
     "output_type": "display_data"
    }
   ],
   "source": [
    "plt.figure(figsize=(25,25))\n",
    "ax = plt.axes()\n",
    "corr =data[['PAY_0',\n",
    "       'PAY_2', 'PAY_3', 'PAY_4', 'PAY_5', 'PAY_6', 'BILL_AMT1', 'BILL_AMT2',\n",
    "       'BILL_AMT3', 'BILL_AMT4', 'BILL_AMT5', 'BILL_AMT6', 'PAY_AMT1',\n",
    "       'PAY_AMT2', 'PAY_AMT3', 'PAY_AMT4', 'PAY_AMT5', 'PAY_AMT6',\"default\"]].corr()\n",
    "sns.heatmap(corr, vmax=1,vmin=-1, square=True, annot=True, cmap='Spectral',linecolor=\"white\", linewidths=0.01, ax=ax)\n",
    "ax.set_title('Correlation Coefficient Pair Plot',fontweight=\"bold\", size=30)\n",
    "plt.show()"
   ]
  },
  {
   "cell_type": "markdown",
   "metadata": {},
   "source": [
    "## 發現:\n",
    "* PAY_AMT與BILL_AMT相差一期有較大的正相關 , 也許是許多人都只繳最低應付款,所以這期沒繳完累積到下期,使下期的最低應付款增加\n",
    "\n",
    "* 另外付款狀況PAY_系列也跟BILL_AMT系列有較大的正相關 , 也就是說我某一期累積要付的金額越高 , 違約的期數也可能越高\n",
    "\n",
    "* BILL_AMT之間高度正相關 , 也就是說這個變數應該是代表總欠款,這期沒繳完的會延續到後期"
   ]
  },
  {
   "cell_type": "markdown",
   "metadata": {},
   "source": [
    "# 硬TRAIN一發\n",
    "### 簡單資料清理後先隨意TRAIN一下看看效果\n",
    "### Random Forest"
   ]
  },
  {
   "cell_type": "code",
   "execution_count": 32,
   "metadata": {},
   "outputs": [
    {
     "data": {
      "text/plain": [
       "Index(['ID', 'LIMIT_BAL', 'SEX', 'EDUCATION', 'MARRIAGE', 'AGE', 'PAY_0',\n",
       "       'PAY_2', 'PAY_3', 'PAY_4', 'PAY_5', 'PAY_6', 'BILL_AMT1', 'BILL_AMT2',\n",
       "       'BILL_AMT3', 'BILL_AMT4', 'BILL_AMT5', 'BILL_AMT6', 'PAY_AMT1',\n",
       "       'PAY_AMT2', 'PAY_AMT3', 'PAY_AMT4', 'PAY_AMT5', 'PAY_AMT6', 'default',\n",
       "       'marriage', 'education', 'limit_bal_lavel'],\n",
       "      dtype='object')"
      ]
     },
     "execution_count": 32,
     "metadata": {},
     "output_type": "execute_result"
    }
   ],
   "source": [
    "data.columns"
   ]
  },
  {
   "cell_type": "code",
   "execution_count": 33,
   "metadata": {
    "collapsed": true
   },
   "outputs": [],
   "source": [
    "from sklearn.model_selection import train_test_split\n",
    "from sklearn.ensemble import RandomForestClassifier\n",
    "from sklearn.metrics import accuracy_score, make_scorer\n",
    "from sklearn.metrics import f1_score\n",
    "data_clean1 = data[['LIMIT_BAL', 'SEX', 'EDUCATION', 'MARRIAGE', 'AGE', 'PAY_0',\n",
    "       'PAY_2', 'PAY_3', 'PAY_4', 'PAY_5', 'PAY_6', 'BILL_AMT1', 'BILL_AMT2',\n",
    "       'BILL_AMT3', 'BILL_AMT4', 'BILL_AMT5', 'BILL_AMT6', 'PAY_AMT1',\n",
    "       'PAY_AMT2', 'PAY_AMT3', 'PAY_AMT4', 'PAY_AMT5', 'PAY_AMT6', 'default']]"
   ]
  },
  {
   "cell_type": "code",
   "execution_count": 34,
   "metadata": {
    "collapsed": true
   },
   "outputs": [],
   "source": [
    "## 分出data跟label\n",
    "x_data_clean1 = data_clean1[['LIMIT_BAL', 'SEX', 'EDUCATION', 'MARRIAGE', 'AGE', 'PAY_0',\n",
    "       'PAY_2', 'PAY_3', 'PAY_4', 'PAY_5', 'PAY_6',]]\n",
    "y_data_clean1 = data_clean1[ 'default']\n",
    "\n",
    "x_train1,x_test1,y_train1,y_test1 = train_test_split(x_data_clean1,y_data_clean1,test_size = 0.3)"
   ]
  },
  {
   "cell_type": "code",
   "execution_count": 35,
   "metadata": {},
   "outputs": [
    {
     "data": {
      "text/plain": [
       "RandomForestClassifier(bootstrap=True, class_weight=None, criterion='gini',\n",
       "            max_depth=None, max_features='auto', max_leaf_nodes=None,\n",
       "            min_impurity_decrease=0.0, min_impurity_split=None,\n",
       "            min_samples_leaf=1, min_samples_split=12,\n",
       "            min_weight_fraction_leaf=0.0, n_estimators=1000, n_jobs=-1,\n",
       "            oob_score=True, random_state=1, verbose=0, warm_start=False)"
      ]
     },
     "execution_count": 35,
     "metadata": {},
     "output_type": "execute_result"
    }
   ],
   "source": [
    "forest = RandomForestClassifier(criterion='gini', \n",
    "                             n_estimators=1000,\n",
    "                             min_samples_split=12,\n",
    "                             min_samples_leaf=1,\n",
    "                             oob_score=True,\n",
    "                             random_state=1,\n",
    "                             n_jobs=-1) \n",
    "forest.fit(x_train1,y_train1)"
   ]
  },
  {
   "cell_type": "code",
   "execution_count": 36,
   "metadata": {},
   "outputs": [
    {
     "data": {
      "text/plain": [
       "0.81544444444444442"
      ]
     },
     "execution_count": 36,
     "metadata": {},
     "output_type": "execute_result"
    }
   ],
   "source": [
    "y_predict1 = forest.predict(x_test1)\n",
    "accuracy_score (y_true=y_test1,y_pred=y_predict1)"
   ]
  },
  {
   "cell_type": "markdown",
   "metadata": {},
   "source": [
    "### 定義一些函數來檢測模型預測結果"
   ]
  },
  {
   "cell_type": "code",
   "execution_count": 37,
   "metadata": {
    "collapsed": true
   },
   "outputs": [],
   "source": [
    "def score_matrix ( true , pred) :\n",
    "    TP = np.sum(np.logical_and(pred==1,true==1))\n",
    "    TN = np.sum(np.logical_and(pred==0,true==0))\n",
    "    FP = np.sum(np.logical_and(pred==1,true==0))\n",
    "    FN = np.sum(np.logical_and(pred==0,true==1))\n",
    "    #判斷為真且為真的機率\n",
    "    Precision = TP/(TP+FP)\n",
    "    #為真被判斷為真的機率\n",
    "    Recall = TP/(TP+FN)\n",
    "    #為假被判斷為真的機率\n",
    "    FPR = FP/(TN+FP)\n",
    "    #平測不平衡資料的指標\n",
    "    F1 = f1_score(y_true = true,y_pred=pred)\n",
    "    ACC = accuracy_score (y_true=true,y_pred=pred)\n",
    "    \n",
    "    score = pd.DataFrame({\"Index\":[\"Precision\",\"Recall\",\"FPR\",\"Accuracy\",\"F1\"],\n",
    "                          \"Score\":[Precision,Recall,FPR,ACC, F1]})\n",
    "    return score"
   ]
  },
  {
   "cell_type": "code",
   "execution_count": 38,
   "metadata": {
    "collapsed": true
   },
   "outputs": [],
   "source": [
    "def features_important(model,train_data):\n",
    "    feature = pd.DataFrame(model.feature_importances_.reshape(len(train_data.columns),1),index=train_data.columns,columns=[\"Importance\"])\n",
    "    return feature.sort_values(by=\"Importance\",ascending= False)"
   ]
  },
  {
   "cell_type": "code",
   "execution_count": 39,
   "metadata": {},
   "outputs": [
    {
     "data": {
      "text/html": [
       "<div>\n",
       "<style>\n",
       "    .dataframe thead tr:only-child th {\n",
       "        text-align: right;\n",
       "    }\n",
       "\n",
       "    .dataframe thead th {\n",
       "        text-align: left;\n",
       "    }\n",
       "\n",
       "    .dataframe tbody tr th {\n",
       "        vertical-align: top;\n",
       "    }\n",
       "</style>\n",
       "<table border=\"1\" class=\"dataframe\">\n",
       "  <thead>\n",
       "    <tr style=\"text-align: right;\">\n",
       "      <th></th>\n",
       "      <th>Index</th>\n",
       "      <th>Score</th>\n",
       "    </tr>\n",
       "  </thead>\n",
       "  <tbody>\n",
       "    <tr>\n",
       "      <th>0</th>\n",
       "      <td>Precision</td>\n",
       "      <td>0.645592</td>\n",
       "    </tr>\n",
       "    <tr>\n",
       "      <th>1</th>\n",
       "      <td>Recall</td>\n",
       "      <td>0.364688</td>\n",
       "    </tr>\n",
       "    <tr>\n",
       "      <th>2</th>\n",
       "      <td>FPR</td>\n",
       "      <td>0.056760</td>\n",
       "    </tr>\n",
       "    <tr>\n",
       "      <th>3</th>\n",
       "      <td>Accuracy</td>\n",
       "      <td>0.815444</td>\n",
       "    </tr>\n",
       "    <tr>\n",
       "      <th>4</th>\n",
       "      <td>F1</td>\n",
       "      <td>0.466088</td>\n",
       "    </tr>\n",
       "  </tbody>\n",
       "</table>\n",
       "</div>"
      ],
      "text/plain": [
       "       Index     Score\n",
       "0  Precision  0.645592\n",
       "1     Recall  0.364688\n",
       "2        FPR  0.056760\n",
       "3   Accuracy  0.815444\n",
       "4         F1  0.466088"
      ]
     },
     "execution_count": 39,
     "metadata": {},
     "output_type": "execute_result"
    }
   ],
   "source": [
    "score_matrix(y_test1,y_predict1)"
   ]
  },
  {
   "cell_type": "code",
   "execution_count": 40,
   "metadata": {},
   "outputs": [
    {
     "data": {
      "text/html": [
       "<div>\n",
       "<style>\n",
       "    .dataframe thead tr:only-child th {\n",
       "        text-align: right;\n",
       "    }\n",
       "\n",
       "    .dataframe thead th {\n",
       "        text-align: left;\n",
       "    }\n",
       "\n",
       "    .dataframe tbody tr th {\n",
       "        vertical-align: top;\n",
       "    }\n",
       "</style>\n",
       "<table border=\"1\" class=\"dataframe\">\n",
       "  <thead>\n",
       "    <tr style=\"text-align: right;\">\n",
       "      <th></th>\n",
       "      <th>Importance</th>\n",
       "    </tr>\n",
       "  </thead>\n",
       "  <tbody>\n",
       "    <tr>\n",
       "      <th>PAY_0</th>\n",
       "      <td>0.246971</td>\n",
       "    </tr>\n",
       "    <tr>\n",
       "      <th>LIMIT_BAL</th>\n",
       "      <td>0.210508</td>\n",
       "    </tr>\n",
       "    <tr>\n",
       "      <th>PAY_2</th>\n",
       "      <td>0.118751</td>\n",
       "    </tr>\n",
       "    <tr>\n",
       "      <th>PAY_3</th>\n",
       "      <td>0.073457</td>\n",
       "    </tr>\n",
       "    <tr>\n",
       "      <th>AGE</th>\n",
       "      <td>0.064984</td>\n",
       "    </tr>\n",
       "    <tr>\n",
       "      <th>PAY_4</th>\n",
       "      <td>0.064728</td>\n",
       "    </tr>\n",
       "    <tr>\n",
       "      <th>PAY_5</th>\n",
       "      <td>0.057708</td>\n",
       "    </tr>\n",
       "    <tr>\n",
       "      <th>PAY_6</th>\n",
       "      <td>0.056684</td>\n",
       "    </tr>\n",
       "    <tr>\n",
       "      <th>EDUCATION</th>\n",
       "      <td>0.051474</td>\n",
       "    </tr>\n",
       "    <tr>\n",
       "      <th>MARRIAGE</th>\n",
       "      <td>0.031735</td>\n",
       "    </tr>\n",
       "    <tr>\n",
       "      <th>SEX</th>\n",
       "      <td>0.023000</td>\n",
       "    </tr>\n",
       "  </tbody>\n",
       "</table>\n",
       "</div>"
      ],
      "text/plain": [
       "           Importance\n",
       "PAY_0        0.246971\n",
       "LIMIT_BAL    0.210508\n",
       "PAY_2        0.118751\n",
       "PAY_3        0.073457\n",
       "AGE          0.064984\n",
       "PAY_4        0.064728\n",
       "PAY_5        0.057708\n",
       "PAY_6        0.056684\n",
       "EDUCATION    0.051474\n",
       "MARRIAGE     0.031735\n",
       "SEX          0.023000"
      ]
     },
     "execution_count": 40,
     "metadata": {},
     "output_type": "execute_result"
    }
   ],
   "source": [
    "features_important(forest,x_train1)"
   ]
  },
  {
   "cell_type": "markdown",
   "metadata": {},
   "source": [
    "## 發現 :\n",
    "* PAY_0 在預測上有不錯的解釋力\n",
    "* 雖然模型在testing上準確率達0.814 , 但recall(testing中資料為1被正確預測出來的機率)\n",
    "  只有0.358 , precision(預測1正確的機率)只有0.6632 \n",
    "* 問題的原因在於資料集為不平衡資料集\n",
    "\n",
    "## 改善 :\n",
    "* 從演算法下手 :  嘗試不同的對付不平衡資料的Model\n",
    "* 從資料下手   :  upsampling , downsampling"
   ]
  },
  {
   "cell_type": "markdown",
   "metadata": {},
   "source": [
    "# 選定模型 :\n",
    "* Random Forest\n",
    "* XGboost Classifier\n",
    "* SVM\n",
    "* fully connected neural network\n",
    "\n",
    "# 選定抽樣方法 :\n",
    "* Downsampled \n"
   ]
  },
  {
   "cell_type": "markdown",
   "metadata": {},
   "source": [
    "# 建模前先來做特徵工程"
   ]
  },
  {
   "cell_type": "code",
   "execution_count": 41,
   "metadata": {},
   "outputs": [
    {
     "data": {
      "text/html": [
       "<div>\n",
       "<style>\n",
       "    .dataframe thead tr:only-child th {\n",
       "        text-align: right;\n",
       "    }\n",
       "\n",
       "    .dataframe thead th {\n",
       "        text-align: left;\n",
       "    }\n",
       "\n",
       "    .dataframe tbody tr th {\n",
       "        vertical-align: top;\n",
       "    }\n",
       "</style>\n",
       "<table border=\"1\" class=\"dataframe\">\n",
       "  <thead>\n",
       "    <tr style=\"text-align: right;\">\n",
       "      <th></th>\n",
       "      <th>ID</th>\n",
       "      <th>LIMIT_BAL</th>\n",
       "      <th>SEX</th>\n",
       "      <th>EDUCATION</th>\n",
       "      <th>MARRIAGE</th>\n",
       "      <th>AGE</th>\n",
       "      <th>PAY_0</th>\n",
       "      <th>PAY_2</th>\n",
       "      <th>PAY_3</th>\n",
       "      <th>PAY_4</th>\n",
       "      <th>...</th>\n",
       "      <th>PAY_AMT1</th>\n",
       "      <th>PAY_AMT2</th>\n",
       "      <th>PAY_AMT3</th>\n",
       "      <th>PAY_AMT4</th>\n",
       "      <th>PAY_AMT5</th>\n",
       "      <th>PAY_AMT6</th>\n",
       "      <th>default</th>\n",
       "      <th>marriage</th>\n",
       "      <th>education</th>\n",
       "      <th>limit_bal_lavel</th>\n",
       "    </tr>\n",
       "  </thead>\n",
       "  <tbody>\n",
       "    <tr>\n",
       "      <th>0</th>\n",
       "      <td>1</td>\n",
       "      <td>20000.0</td>\n",
       "      <td>0</td>\n",
       "      <td>2</td>\n",
       "      <td>1</td>\n",
       "      <td>1</td>\n",
       "      <td>2</td>\n",
       "      <td>2</td>\n",
       "      <td>-1</td>\n",
       "      <td>-1</td>\n",
       "      <td>...</td>\n",
       "      <td>0.0</td>\n",
       "      <td>689.0</td>\n",
       "      <td>0.0</td>\n",
       "      <td>0.0</td>\n",
       "      <td>0.0</td>\n",
       "      <td>0.0</td>\n",
       "      <td>1</td>\n",
       "      <td>marriged</td>\n",
       "      <td>University</td>\n",
       "      <td>1</td>\n",
       "    </tr>\n",
       "    <tr>\n",
       "      <th>1</th>\n",
       "      <td>2</td>\n",
       "      <td>120000.0</td>\n",
       "      <td>0</td>\n",
       "      <td>2</td>\n",
       "      <td>2</td>\n",
       "      <td>1</td>\n",
       "      <td>-1</td>\n",
       "      <td>2</td>\n",
       "      <td>0</td>\n",
       "      <td>0</td>\n",
       "      <td>...</td>\n",
       "      <td>0.0</td>\n",
       "      <td>1000.0</td>\n",
       "      <td>1000.0</td>\n",
       "      <td>1000.0</td>\n",
       "      <td>0.0</td>\n",
       "      <td>2000.0</td>\n",
       "      <td>1</td>\n",
       "      <td>single</td>\n",
       "      <td>University</td>\n",
       "      <td>5</td>\n",
       "    </tr>\n",
       "    <tr>\n",
       "      <th>2</th>\n",
       "      <td>3</td>\n",
       "      <td>90000.0</td>\n",
       "      <td>0</td>\n",
       "      <td>2</td>\n",
       "      <td>2</td>\n",
       "      <td>2</td>\n",
       "      <td>0</td>\n",
       "      <td>0</td>\n",
       "      <td>0</td>\n",
       "      <td>0</td>\n",
       "      <td>...</td>\n",
       "      <td>1518.0</td>\n",
       "      <td>1500.0</td>\n",
       "      <td>1000.0</td>\n",
       "      <td>1000.0</td>\n",
       "      <td>1000.0</td>\n",
       "      <td>5000.0</td>\n",
       "      <td>0</td>\n",
       "      <td>single</td>\n",
       "      <td>University</td>\n",
       "      <td>4</td>\n",
       "    </tr>\n",
       "    <tr>\n",
       "      <th>3</th>\n",
       "      <td>4</td>\n",
       "      <td>50000.0</td>\n",
       "      <td>0</td>\n",
       "      <td>2</td>\n",
       "      <td>1</td>\n",
       "      <td>2</td>\n",
       "      <td>0</td>\n",
       "      <td>0</td>\n",
       "      <td>0</td>\n",
       "      <td>0</td>\n",
       "      <td>...</td>\n",
       "      <td>2000.0</td>\n",
       "      <td>2019.0</td>\n",
       "      <td>1200.0</td>\n",
       "      <td>1100.0</td>\n",
       "      <td>1069.0</td>\n",
       "      <td>1000.0</td>\n",
       "      <td>0</td>\n",
       "      <td>marriged</td>\n",
       "      <td>University</td>\n",
       "      <td>2</td>\n",
       "    </tr>\n",
       "    <tr>\n",
       "      <th>4</th>\n",
       "      <td>5</td>\n",
       "      <td>50000.0</td>\n",
       "      <td>1</td>\n",
       "      <td>2</td>\n",
       "      <td>1</td>\n",
       "      <td>4</td>\n",
       "      <td>-1</td>\n",
       "      <td>0</td>\n",
       "      <td>-1</td>\n",
       "      <td>0</td>\n",
       "      <td>...</td>\n",
       "      <td>2000.0</td>\n",
       "      <td>36681.0</td>\n",
       "      <td>10000.0</td>\n",
       "      <td>9000.0</td>\n",
       "      <td>689.0</td>\n",
       "      <td>679.0</td>\n",
       "      <td>0</td>\n",
       "      <td>marriged</td>\n",
       "      <td>University</td>\n",
       "      <td>2</td>\n",
       "    </tr>\n",
       "  </tbody>\n",
       "</table>\n",
       "<p>5 rows × 28 columns</p>\n",
       "</div>"
      ],
      "text/plain": [
       "   ID  LIMIT_BAL  SEX  EDUCATION  MARRIAGE  AGE  PAY_0  PAY_2  PAY_3  PAY_4  \\\n",
       "0   1    20000.0    0          2         1    1      2      2     -1     -1   \n",
       "1   2   120000.0    0          2         2    1     -1      2      0      0   \n",
       "2   3    90000.0    0          2         2    2      0      0      0      0   \n",
       "3   4    50000.0    0          2         1    2      0      0      0      0   \n",
       "4   5    50000.0    1          2         1    4     -1      0     -1      0   \n",
       "\n",
       "        ...         PAY_AMT1  PAY_AMT2  PAY_AMT3  PAY_AMT4  PAY_AMT5  \\\n",
       "0       ...              0.0     689.0       0.0       0.0       0.0   \n",
       "1       ...              0.0    1000.0    1000.0    1000.0       0.0   \n",
       "2       ...           1518.0    1500.0    1000.0    1000.0    1000.0   \n",
       "3       ...           2000.0    2019.0    1200.0    1100.0    1069.0   \n",
       "4       ...           2000.0   36681.0   10000.0    9000.0     689.0   \n",
       "\n",
       "   PAY_AMT6  default  marriage   education  limit_bal_lavel  \n",
       "0       0.0        1  marriged  University                1  \n",
       "1    2000.0        1    single  University                5  \n",
       "2    5000.0        0    single  University                4  \n",
       "3    1000.0        0  marriged  University                2  \n",
       "4     679.0        0  marriged  University                2  \n",
       "\n",
       "[5 rows x 28 columns]"
      ]
     },
     "execution_count": 41,
     "metadata": {},
     "output_type": "execute_result"
    }
   ],
   "source": [
    "data.head()"
   ]
  },
  {
   "cell_type": "markdown",
   "metadata": {},
   "source": [
    "## 先處理看似重要性較高的PAY_系列\n",
    "* 將-2,-1併入0表示當月無欠款\n",
    "* 將2,3併入1表示小拖延(3個月以內)\n",
    "* 將4,5,6,7,8改為2表示嚴重拖延(4~8個月)\n",
    "\n"
   ]
  },
  {
   "cell_type": "code",
   "execution_count": 42,
   "metadata": {
    "collapsed": true
   },
   "outputs": [],
   "source": [
    "data.loc[:,\"pay_0\"]=data.loc[:,\"PAY_0\"].replace([-2,-1,0,1,2,3,4,5,6,7,8],\n",
    "                                                [0,0,0,0,1,1,2,2,2,2,2])\n",
    "data.loc[:,\"pay_1\"]=data.loc[:,\"PAY_2\"].replace([-2,-1,0,1,2,3,4,5,6,7,8],\n",
    "                                                [0,0,0,0,1,1,2,2,2,2,2])\n",
    "data.loc[:,\"pay_2\"]=data.loc[:,\"PAY_3\"].replace([-2,-1,0,1,2,3,4,5,6,7,8],\n",
    "                                                [0,0,0,0,1,1,2,2,2,2,2])\n",
    "data.loc[:,\"pay_3\"]=data.loc[:,\"PAY_4\"].replace([-2,-1,0,1,2,3,4,5,6,7,8],\n",
    "                                                [0,0,0,0,1,1,2,2,2,2,2])\n",
    "data.loc[:,\"pay_4\"]=data.loc[:,\"PAY_5\"].replace([-2,-1,0,1,2,3,4,5,6,7,8],\n",
    "                                                [0,0,0,0,1,1,2,2,2,2,2])\n",
    "data.loc[:,\"pay_5\"]=data.loc[:,\"PAY_6\"].replace([-2,-1,0,1,2,3,4,5,6,7,8],\n",
    "                                                [0,0,0,0,1,1,2,2,2,2,2])"
   ]
  },
  {
   "cell_type": "code",
   "execution_count": 43,
   "metadata": {},
   "outputs": [
    {
     "data": {
      "text/html": [
       "<div>\n",
       "<style>\n",
       "    .dataframe thead tr:only-child th {\n",
       "        text-align: right;\n",
       "    }\n",
       "\n",
       "    .dataframe thead th {\n",
       "        text-align: left;\n",
       "    }\n",
       "\n",
       "    .dataframe tbody tr th {\n",
       "        vertical-align: top;\n",
       "    }\n",
       "</style>\n",
       "<table border=\"1\" class=\"dataframe\">\n",
       "  <thead>\n",
       "    <tr style=\"text-align: right;\">\n",
       "      <th>default</th>\n",
       "      <th>0</th>\n",
       "      <th>1</th>\n",
       "      <th>Sum</th>\n",
       "      <th>Per</th>\n",
       "    </tr>\n",
       "    <tr>\n",
       "      <th>pay_2</th>\n",
       "      <th></th>\n",
       "      <th></th>\n",
       "      <th></th>\n",
       "      <th></th>\n",
       "    </tr>\n",
       "  </thead>\n",
       "  <tbody>\n",
       "    <tr>\n",
       "      <th>0</th>\n",
       "      <td>21356</td>\n",
       "      <td>4435</td>\n",
       "      <td>25791</td>\n",
       "      <td>0.171959</td>\n",
       "    </tr>\n",
       "    <tr>\n",
       "      <th>1</th>\n",
       "      <td>1952</td>\n",
       "      <td>2107</td>\n",
       "      <td>4059</td>\n",
       "      <td>0.519093</td>\n",
       "    </tr>\n",
       "    <tr>\n",
       "      <th>2</th>\n",
       "      <td>56</td>\n",
       "      <td>94</td>\n",
       "      <td>150</td>\n",
       "      <td>0.626667</td>\n",
       "    </tr>\n",
       "  </tbody>\n",
       "</table>\n",
       "</div>"
      ],
      "text/plain": [
       "default      0     1    Sum       Per\n",
       "pay_2                                \n",
       "0        21356  4435  25791  0.171959\n",
       "1         1952  2107   4059  0.519093\n",
       "2           56    94    150  0.626667"
      ]
     },
     "execution_count": 43,
     "metadata": {},
     "output_type": "execute_result"
    }
   ],
   "source": [
    "group_per(data,\"pay_2\",\"default\")"
   ]
  },
  {
   "cell_type": "code",
   "execution_count": 44,
   "metadata": {},
   "outputs": [
    {
     "data": {
      "text/html": [
       "<div>\n",
       "<style>\n",
       "    .dataframe thead tr:only-child th {\n",
       "        text-align: right;\n",
       "    }\n",
       "\n",
       "    .dataframe thead th {\n",
       "        text-align: left;\n",
       "    }\n",
       "\n",
       "    .dataframe tbody tr th {\n",
       "        vertical-align: top;\n",
       "    }\n",
       "</style>\n",
       "<table border=\"1\" class=\"dataframe\">\n",
       "  <thead>\n",
       "    <tr style=\"text-align: right;\">\n",
       "      <th>default</th>\n",
       "      <th>0</th>\n",
       "      <th>1</th>\n",
       "      <th>Sum</th>\n",
       "      <th>Per</th>\n",
       "    </tr>\n",
       "    <tr>\n",
       "      <th>pay_0</th>\n",
       "      <th></th>\n",
       "      <th></th>\n",
       "      <th></th>\n",
       "      <th></th>\n",
       "    </tr>\n",
       "  </thead>\n",
       "  <tbody>\n",
       "    <tr>\n",
       "      <th>0</th>\n",
       "      <td>22411</td>\n",
       "      <td>4459</td>\n",
       "      <td>26870</td>\n",
       "      <td>0.165947</td>\n",
       "    </tr>\n",
       "    <tr>\n",
       "      <th>1</th>\n",
       "      <td>901</td>\n",
       "      <td>2088</td>\n",
       "      <td>2989</td>\n",
       "      <td>0.698561</td>\n",
       "    </tr>\n",
       "    <tr>\n",
       "      <th>2</th>\n",
       "      <td>52</td>\n",
       "      <td>89</td>\n",
       "      <td>141</td>\n",
       "      <td>0.631206</td>\n",
       "    </tr>\n",
       "  </tbody>\n",
       "</table>\n",
       "</div>"
      ],
      "text/plain": [
       "default      0     1    Sum       Per\n",
       "pay_0                                \n",
       "0        22411  4459  26870  0.165947\n",
       "1          901  2088   2989  0.698561\n",
       "2           52    89    141  0.631206"
      ]
     },
     "execution_count": 44,
     "metadata": {},
     "output_type": "execute_result"
    }
   ],
   "source": [
    "group_per(data,\"pay_0\",\"default\")"
   ]
  },
  {
   "cell_type": "markdown",
   "metadata": {},
   "source": [
    "## 看起來有不錯的區隔能力"
   ]
  },
  {
   "cell_type": "markdown",
   "metadata": {},
   "source": [
    "## 再來處理BILL_AMT系列\n",
    "* 由前面得知 , BILL_AMT系列應該是累積的,所以這邊我只想看BILL_AMT1,其他BILL_AMT2~6都DROP掉\n",
    "* 將BILL_AMT1/信用額度  表示依這個人下期的欠款站信用額度的比例\n",
    "* 標準化"
   ]
  },
  {
   "cell_type": "code",
   "execution_count": 46,
   "metadata": {
    "collapsed": true
   },
   "outputs": [],
   "source": [
    "data[\"bill_per\"] = data[\"BILL_AMT1\"]/data[\"LIMIT_BAL\"]\n",
    "data['bill_std'] = data[\"BILL_AMT1\"]/(np.std(data[\"BILL_AMT1\"]))"
   ]
  },
  {
   "cell_type": "markdown",
   "metadata": {},
   "source": [
    "## 再來處理PAY_AMT系列\n",
    "* 一樣只看前ㄧ期PAY_AMT1\n",
    "* 將BILL_AMT不為0 , 但PAY_AMT為零特別容易違約的人抓出來 設為2\n",
    "* 將BILL_AMT不為0 , 但PAY_AMT也不為零稍微容易違約的人抓出來 設為1\n",
    "* 將BILL_AMT為0,最不容易違約的人設為0"
   ]
  },
  {
   "cell_type": "code",
   "execution_count": 47,
   "metadata": {
    "collapsed": true,
    "scrolled": true
   },
   "outputs": [],
   "source": [
    "a = (data.BILL_AMT1 >0 ) & (data.PAY_AMT1<=0)\n",
    "c = (data.BILL_AMT1 >0 ) & (data.PAY_AMT1>0)\n",
    "b = (data.BILL_AMT1 <=0) "
   ]
  },
  {
   "cell_type": "code",
   "execution_count": 48,
   "metadata": {
    "collapsed": true
   },
   "outputs": [],
   "source": [
    "data.loc[a,\"pay_sci\"] = 2\n",
    "data.loc[b,\"pay_sci\"] = 0\n",
    "data.loc[c,\"pay_sci\"] = 1\n"
   ]
  },
  {
   "cell_type": "code",
   "execution_count": 49,
   "metadata": {},
   "outputs": [
    {
     "data": {
      "text/plain": [
       "0    2105\n",
       "1    1390\n",
       "Name: default, dtype: int64"
      ]
     },
     "execution_count": 49,
     "metadata": {},
     "output_type": "execute_result"
    }
   ],
   "source": [
    "data.loc[a,\"default\"].value_counts()"
   ]
  },
  {
   "cell_type": "code",
   "execution_count": 50,
   "metadata": {},
   "outputs": [
    {
     "data": {
      "text/plain": [
       "0    1955\n",
       "1     643\n",
       "Name: default, dtype: int64"
      ]
     },
     "execution_count": 50,
     "metadata": {},
     "output_type": "execute_result"
    }
   ],
   "source": [
    "data.loc[b,\"default\"].value_counts()"
   ]
  },
  {
   "cell_type": "code",
   "execution_count": 51,
   "metadata": {},
   "outputs": [
    {
     "data": {
      "text/html": [
       "<div>\n",
       "<style>\n",
       "    .dataframe thead tr:only-child th {\n",
       "        text-align: right;\n",
       "    }\n",
       "\n",
       "    .dataframe thead th {\n",
       "        text-align: left;\n",
       "    }\n",
       "\n",
       "    .dataframe tbody tr th {\n",
       "        vertical-align: top;\n",
       "    }\n",
       "</style>\n",
       "<table border=\"1\" class=\"dataframe\">\n",
       "  <thead>\n",
       "    <tr style=\"text-align: right;\">\n",
       "      <th>default</th>\n",
       "      <th>0</th>\n",
       "      <th>1</th>\n",
       "      <th>Sum</th>\n",
       "      <th>Per</th>\n",
       "    </tr>\n",
       "    <tr>\n",
       "      <th>pay_sci</th>\n",
       "      <th></th>\n",
       "      <th></th>\n",
       "      <th></th>\n",
       "      <th></th>\n",
       "    </tr>\n",
       "  </thead>\n",
       "  <tbody>\n",
       "    <tr>\n",
       "      <th>0.0</th>\n",
       "      <td>1955</td>\n",
       "      <td>643</td>\n",
       "      <td>2598</td>\n",
       "      <td>0.247498</td>\n",
       "    </tr>\n",
       "    <tr>\n",
       "      <th>1.0</th>\n",
       "      <td>19304</td>\n",
       "      <td>4603</td>\n",
       "      <td>23907</td>\n",
       "      <td>0.192538</td>\n",
       "    </tr>\n",
       "    <tr>\n",
       "      <th>2.0</th>\n",
       "      <td>2105</td>\n",
       "      <td>1390</td>\n",
       "      <td>3495</td>\n",
       "      <td>0.397711</td>\n",
       "    </tr>\n",
       "  </tbody>\n",
       "</table>\n",
       "</div>"
      ],
      "text/plain": [
       "default      0     1    Sum       Per\n",
       "pay_sci                              \n",
       "0.0       1955   643   2598  0.247498\n",
       "1.0      19304  4603  23907  0.192538\n",
       "2.0       2105  1390   3495  0.397711"
      ]
     },
     "execution_count": 51,
     "metadata": {},
     "output_type": "execute_result"
    }
   ],
   "source": [
    "group_per(data,\"pay_sci\",\"default\")"
   ]
  },
  {
   "cell_type": "markdown",
   "metadata": {},
   "source": [
    "## 看起來區隔能力不錯\n",
    "* 2分類沒問題 不過很怪的是BILL_AMT<=0 違約率比BILL_AMT>0還高"
   ]
  },
  {
   "cell_type": "code",
   "execution_count": 52,
   "metadata": {},
   "outputs": [
    {
     "data": {
      "text/plain": [
       "Index(['ID', 'LIMIT_BAL', 'SEX', 'EDUCATION', 'MARRIAGE', 'AGE', 'PAY_0',\n",
       "       'PAY_2', 'PAY_3', 'PAY_4', 'PAY_5', 'PAY_6', 'BILL_AMT1', 'BILL_AMT2',\n",
       "       'BILL_AMT3', 'BILL_AMT4', 'BILL_AMT5', 'BILL_AMT6', 'PAY_AMT1',\n",
       "       'PAY_AMT2', 'PAY_AMT3', 'PAY_AMT4', 'PAY_AMT5', 'PAY_AMT6', 'default',\n",
       "       'marriage', 'education', 'limit_bal_lavel', 'pay_0', 'pay_1', 'pay_2',\n",
       "       'pay_3', 'pay_4', 'pay_5', 'bill_per', 'bill_std', 'pay_sci'],\n",
       "      dtype='object')"
      ]
     },
     "execution_count": 52,
     "metadata": {},
     "output_type": "execute_result"
    }
   ],
   "source": [
    "data.columns"
   ]
  },
  {
   "cell_type": "code",
   "execution_count": 162,
   "metadata": {
    "collapsed": true
   },
   "outputs": [],
   "source": [
    "data_clean1 = data[['LIMIT_BAL', 'SEX', 'EDUCATION', 'MARRIAGE', 'AGE', 'pay_0',\n",
    "       'pay_1', 'pay_2', 'pay_3', 'pay_4', 'pay_5','bill_per' , 'default','bill_std','pay_sci']]\n",
    "\n",
    "x_data_clean1 = data_clean1[['LIMIT_BAL', 'SEX', 'EDUCATION', 'MARRIAGE', 'AGE', 'pay_0',\n",
    "       'pay_1', 'pay_2', 'pay_3', 'pay_4', 'pay_5','bill_per' ,'bill_std','pay_sci']]\n",
    "y_data_clean1 = data_clean1[ 'default']\n",
    "\n",
    "x_train1,x_test1,y_train1,y_test1 = train_test_split(x_data_clean1,y_data_clean1,test_size = 0.3)"
   ]
  },
  {
   "cell_type": "code",
   "execution_count": 160,
   "metadata": {},
   "outputs": [
    {
     "data": {
      "text/plain": [
       "Index(['LIMIT_BAL', 'SEX', 'EDUCATION', 'MARRIAGE', 'AGE', 'pay_0', 'pay_1',\n",
       "       'pay_2', 'pay_3', 'pay_4', 'pay_5', 'bill_per', 'bill_std', 'pay_sci'],\n",
       "      dtype='object')"
      ]
     },
     "execution_count": 160,
     "metadata": {},
     "output_type": "execute_result"
    }
   ],
   "source": [
    "x_train1.columns"
   ]
  },
  {
   "cell_type": "markdown",
   "metadata": {},
   "source": [
    "## 開好模型"
   ]
  },
  {
   "cell_type": "code",
   "execution_count": 67,
   "metadata": {},
   "outputs": [
    {
     "data": {
      "text/plain": [
       "RandomForestClassifier(bootstrap=True, class_weight=None, criterion='gini',\n",
       "            max_depth=None, max_features='auto', max_leaf_nodes=None,\n",
       "            min_impurity_decrease=0.0, min_impurity_split=None,\n",
       "            min_samples_leaf=1, min_samples_split=12,\n",
       "            min_weight_fraction_leaf=0.0, n_estimators=1000, n_jobs=-1,\n",
       "            oob_score=True, random_state=1, verbose=0, warm_start=False)"
      ]
     },
     "execution_count": 67,
     "metadata": {},
     "output_type": "execute_result"
    }
   ],
   "source": [
    "from sklearn.ensemble import RandomForestClassifier\n",
    "from xgboost import XGBClassifier\n",
    "from sklearn.svm import SVC\n",
    "#import神經網路\n",
    "import keras\n",
    "from keras.models import Sequential\n",
    "from keras.layers import Dense, Dropout, Flatten\n",
    "from keras.layers import Conv2D, MaxPooling2D\n",
    "from keras.utils import np_utils\n",
    "from keras import backend as K\n",
    "\n",
    "forest = RandomForestClassifier(criterion='gini', \n",
    "                             n_estimators=1000,\n",
    "                             min_samples_split=12,\n",
    "                             min_samples_leaf=1,\n",
    "                             oob_score=True,\n",
    "                             random_state=1,\n",
    "                             n_jobs=-1) \n",
    "forest.fit(x_train1,y_train1)"
   ]
  },
  {
   "cell_type": "code",
   "execution_count": 68,
   "metadata": {
    "collapsed": true
   },
   "outputs": [],
   "source": [
    "#開好隨機森崊\n",
    "model_list = [ RandomForestClassifier(criterion='gini', \n",
    "                             n_estimators=1000,\n",
    "                             min_samples_split=12,\n",
    "                             min_samples_leaf=1,\n",
    "                             oob_score=True,\n",
    "                             random_state=1,\n",
    "                             n_jobs=-1),\n",
    "#開好XGBClassifier\n",
    "XGBClassifier(max_depth=3,learning_rate=0.1,n_estimators=10),\n",
    "\n",
    "#開好svc\n",
    "SVC()]\n",
    "\n",
    "\n"
   ]
  },
  {
   "cell_type": "markdown",
   "metadata": {},
   "source": [
    "## 在普通train set上訓練"
   ]
  },
  {
   "cell_type": "code",
   "execution_count": 180,
   "metadata": {
    "collapsed": true
   },
   "outputs": [],
   "source": [
    "\n",
    "#def model_compet (true) :\n",
    "score = pd.DataFrame(columns=[\"Precision\",\"Recall\",\"FPR\",\"ACC\",\"F1\"],\n",
    "                         index =[0,1,2])\n",
    "i=0\n",
    "for clf in model_list:\n",
    "    model = clf.__class__.__name__\n",
    "    clf.fit(x_train1,y_train1)\n",
    "    pred = clf.predict(x_test1)\n",
    "    TP = np.sum(np.logical_and(pred==1,y_test1==1))\n",
    "    TN = np.sum(np.logical_and(pred==0,y_test1==0))\n",
    "    FP = np.sum(np.logical_and(pred==1,y_test1==0))\n",
    "    FN = np.sum(np.logical_and(pred==0,y_test1==1))\n",
    "    #判斷為真且為真的機率\n",
    "    Precision = TP/(TP+FP)\n",
    "    #為真被判斷為真的機率\n",
    "    Recall = TP/(TP+FN)\n",
    "    #為假被判斷為真的機率\n",
    "    FPR = FP/(TN+FP)\n",
    "    #平測不平衡資料的指標\n",
    "    F1 = f1_score(y_true = y_test1,y_pred=pred)\n",
    "    ACC = accuracy_score (y_true=y_test1,y_pred=pred)\n",
    "    score.loc[i] = pd.Series({\"Precision\":Precision\n",
    "                                      ,\"Recall\":Recall,\"FPR\":FPR,\n",
    "                                      \"ACC\":ACC,\"F1\":F1})   \n",
    "    i=i+1\n",
    "   "
   ]
  },
  {
   "cell_type": "code",
   "execution_count": 181,
   "metadata": {},
   "outputs": [
    {
     "data": {
      "text/html": [
       "<div>\n",
       "<style>\n",
       "    .dataframe thead tr:only-child th {\n",
       "        text-align: right;\n",
       "    }\n",
       "\n",
       "    .dataframe thead th {\n",
       "        text-align: left;\n",
       "    }\n",
       "\n",
       "    .dataframe tbody tr th {\n",
       "        vertical-align: top;\n",
       "    }\n",
       "</style>\n",
       "<table border=\"1\" class=\"dataframe\">\n",
       "  <thead>\n",
       "    <tr style=\"text-align: right;\">\n",
       "      <th></th>\n",
       "      <th>Precision</th>\n",
       "      <th>Recall</th>\n",
       "      <th>FPR</th>\n",
       "      <th>ACC</th>\n",
       "      <th>F1</th>\n",
       "    </tr>\n",
       "  </thead>\n",
       "  <tbody>\n",
       "    <tr>\n",
       "      <th>RandomForest</th>\n",
       "      <td>0.66451</td>\n",
       "      <td>0.355589</td>\n",
       "      <td>0.0520206</td>\n",
       "      <td>0.814889</td>\n",
       "      <td>0.463273</td>\n",
       "    </tr>\n",
       "    <tr>\n",
       "      <th>XGBoost</th>\n",
       "      <td>0.685801</td>\n",
       "      <td>0.336795</td>\n",
       "      <td>0.044712</td>\n",
       "      <td>0.816333</td>\n",
       "      <td>0.451741</td>\n",
       "    </tr>\n",
       "    <tr>\n",
       "      <th>SVM</th>\n",
       "      <td>0.702806</td>\n",
       "      <td>0.272502</td>\n",
       "      <td>0.0333907</td>\n",
       "      <td>0.810667</td>\n",
       "      <td>0.39273</td>\n",
       "    </tr>\n",
       "  </tbody>\n",
       "</table>\n",
       "</div>"
      ],
      "text/plain": [
       "             Precision    Recall        FPR       ACC        F1\n",
       "RandomForest   0.66451  0.355589  0.0520206  0.814889  0.463273\n",
       "XGBoost       0.685801  0.336795   0.044712  0.816333  0.451741\n",
       "SVM           0.702806  0.272502  0.0333907  0.810667   0.39273"
      ]
     },
     "execution_count": 181,
     "metadata": {},
     "output_type": "execute_result"
    }
   ],
   "source": [
    "score.index=[\"RandomForest\",\"XGBoost\",\"SVM\"]\n",
    "score"
   ]
  },
  {
   "cell_type": "markdown",
   "metadata": {},
   "source": [
    "## 在downsampled上訓練"
   ]
  },
  {
   "cell_type": "code",
   "execution_count": 182,
   "metadata": {},
   "outputs": [
    {
     "data": {
      "text/plain": [
       "0    16386\n",
       "1     4614\n",
       "Name: default, dtype: int64"
      ]
     },
     "execution_count": 182,
     "metadata": {},
     "output_type": "execute_result"
    }
   ],
   "source": [
    "from sklearn.utils import resample\n",
    "train_set = x_train1.join(y_train1)\n",
    "train_set[\"default\"].value_counts()"
   ]
  },
  {
   "cell_type": "code",
   "execution_count": 183,
   "metadata": {},
   "outputs": [
    {
     "data": {
      "text/plain": [
       "1    4614\n",
       "0    4603\n",
       "Name: default, dtype: int64"
      ]
     },
     "execution_count": 183,
     "metadata": {},
     "output_type": "execute_result"
    }
   ],
   "source": [
    "## 把0的資料在訓練集上resameple降低到與1的資料相同數目\n",
    "major = train_set[train_set[\"default\"]==0]\n",
    "minor = train_set[train_set[\"default\"]==1]\n",
    "major_down = resample(major,replace=True,n_samples=4603,random_state=66)\n",
    "down_sample = pd.concat([minor,major_down])\n",
    "down_sample[\"default\"].value_counts()"
   ]
  },
  {
   "cell_type": "code",
   "execution_count": 184,
   "metadata": {
    "collapsed": true
   },
   "outputs": [],
   "source": [
    "x_down = down_sample[['LIMIT_BAL', 'SEX', 'EDUCATION', 'MARRIAGE', 'AGE', 'pay_0',\n",
    "       'pay_1', 'pay_2', 'pay_3', 'pay_4', 'pay_5','bill_per' ,'bill_std','pay_sci']]\n",
    "y_down = down_sample[\"default\"]"
   ]
  },
  {
   "cell_type": "markdown",
   "metadata": {},
   "source": [
    "### 開始訓練\n"
   ]
  },
  {
   "cell_type": "code",
   "execution_count": 185,
   "metadata": {
    "collapsed": true
   },
   "outputs": [],
   "source": [
    "score_down = pd.DataFrame(columns=[\"Precision\",\"Recall\",\"FPR\",\"ACC\",\"F1\"],\n",
    "                         index =[0,1,2])\n",
    "j=0\n",
    "for clf in model_list:\n",
    "    model = clf.__class__.__name__\n",
    "    clf.fit(x_down,y_down)\n",
    "    pred = clf.predict(x_test1)\n",
    "    TP = np.sum(np.logical_and(pred==1,y_test1==1))\n",
    "    TN = np.sum(np.logical_and(pred==0,y_test1==0))\n",
    "    FP = np.sum(np.logical_and(pred==1,y_test1==0))\n",
    "    FN = np.sum(np.logical_and(pred==0,y_test1==1))\n",
    "    #判斷為真且為真的機率\n",
    "    Precision = TP/(TP+FP)\n",
    "    #為真被判斷為真的機率\n",
    "    Recall = TP/(TP+FN)\n",
    "    #為假被判斷為真的機率\n",
    "    FPR = FP/(TN+FP)\n",
    "    #平測不平衡資料的指標\n",
    "    F1 = f1_score(y_true = y_test1,y_pred=pred)\n",
    "    ACC = accuracy_score (y_true=y_test1,y_pred=pred)\n",
    "    score_down.loc[j] = pd.Series({\"Precision\":Precision\n",
    "                                      ,\"Recall\":Recall,\"FPR\":FPR,\n",
    "                                      \"ACC\":ACC,\"F1\":F1})   \n",
    "    j=j+1\n",
    "   "
   ]
  },
  {
   "cell_type": "code",
   "execution_count": 186,
   "metadata": {},
   "outputs": [
    {
     "data": {
      "text/html": [
       "<div>\n",
       "<style>\n",
       "    .dataframe thead tr:only-child th {\n",
       "        text-align: right;\n",
       "    }\n",
       "\n",
       "    .dataframe thead th {\n",
       "        text-align: left;\n",
       "    }\n",
       "\n",
       "    .dataframe tbody tr th {\n",
       "        vertical-align: top;\n",
       "    }\n",
       "</style>\n",
       "<table border=\"1\" class=\"dataframe\">\n",
       "  <thead>\n",
       "    <tr style=\"text-align: right;\">\n",
       "      <th></th>\n",
       "      <th>Precision</th>\n",
       "      <th>Recall</th>\n",
       "      <th>FPR</th>\n",
       "      <th>ACC</th>\n",
       "      <th>F1</th>\n",
       "    </tr>\n",
       "  </thead>\n",
       "  <tbody>\n",
       "    <tr>\n",
       "      <th>RandomForest</th>\n",
       "      <td>0.401065</td>\n",
       "      <td>0.670623</td>\n",
       "      <td>0.290198</td>\n",
       "      <td>0.701</td>\n",
       "      <td>0.501943</td>\n",
       "    </tr>\n",
       "    <tr>\n",
       "      <th>XGBoost</th>\n",
       "      <td>0.545937</td>\n",
       "      <td>0.508408</td>\n",
       "      <td>0.122528</td>\n",
       "      <td>0.794556</td>\n",
       "      <td>0.526504</td>\n",
       "    </tr>\n",
       "    <tr>\n",
       "      <th>SVM</th>\n",
       "      <td>0.451836</td>\n",
       "      <td>0.51731</td>\n",
       "      <td>0.181857</td>\n",
       "      <td>0.750556</td>\n",
       "      <td>0.482361</td>\n",
       "    </tr>\n",
       "  </tbody>\n",
       "</table>\n",
       "</div>"
      ],
      "text/plain": [
       "             Precision    Recall       FPR       ACC        F1\n",
       "RandomForest  0.401065  0.670623  0.290198     0.701  0.501943\n",
       "XGBoost       0.545937  0.508408  0.122528  0.794556  0.526504\n",
       "SVM           0.451836   0.51731  0.181857  0.750556  0.482361"
      ]
     },
     "execution_count": 186,
     "metadata": {},
     "output_type": "execute_result"
    }
   ],
   "source": [
    "score_down.index=[\"RandomForest\",\"XGBoost\",\"SVM\"]\n",
    "score_down"
   ]
  },
  {
   "cell_type": "markdown",
   "metadata": {
    "collapsed": true
   },
   "source": [
    "# 結論 :\n",
    "* 在判斷客戶時可參考前半段的資料觀察,可大概知道那些族群有較高的可能性會違約\n",
    "* 對於銀行而言真正關心的應該是如何有效率識別出會default的客戶也就是precision要夠準,在這個考量下使用xgboost可能是較好的選擇\n",
    "* xgboost 和 randomforest 對於不平衡資料較能提高recall , 但也只能到6成多 ,要做到真正預測還需要再研究\n"
   ]
  },
  {
   "cell_type": "code",
   "execution_count": null,
   "metadata": {
    "collapsed": true
   },
   "outputs": [],
   "source": []
  },
  {
   "cell_type": "code",
   "execution_count": null,
   "metadata": {
    "collapsed": true
   },
   "outputs": [],
   "source": []
  },
  {
   "cell_type": "code",
   "execution_count": null,
   "metadata": {
    "collapsed": true
   },
   "outputs": [],
   "source": []
  },
  {
   "cell_type": "code",
   "execution_count": null,
   "metadata": {
    "collapsed": true
   },
   "outputs": [],
   "source": []
  }
 ],
 "metadata": {
  "kernelspec": {
   "display_name": "Python 3",
   "language": "python",
   "name": "python3"
  },
  "language_info": {
   "codemirror_mode": {
    "name": "ipython",
    "version": 3
   },
   "file_extension": ".py",
   "mimetype": "text/x-python",
   "name": "python",
   "nbconvert_exporter": "python",
   "pygments_lexer": "ipython3",
   "version": "3.6.3"
  }
 },
 "nbformat": 4,
 "nbformat_minor": 2
}
