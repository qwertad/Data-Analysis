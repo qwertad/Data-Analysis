{
 "cells": [
  {
   "cell_type": "code",
   "execution_count": 4,
   "metadata": {},
   "outputs": [
    {
     "name": "stdout",
     "output_type": "stream",
     "text": [
      "Extracting /tmp/data/train-images-idx3-ubyte.gz\n",
      "Extracting /tmp/data/train-labels-idx1-ubyte.gz\n",
      "Extracting /tmp/data/t10k-images-idx3-ubyte.gz\n",
      "Extracting /tmp/data/t10k-labels-idx1-ubyte.gz\n"
     ]
    }
   ],
   "source": [
    "import tensorflow as tf\n",
    "from tensorflow.examples.tutorials.mnist import input_data\n",
    "mnist = input_data.read_data_sets(\"/tmp/data/\", one_hot=True)"
   ]
  },
  {
   "cell_type": "code",
   "execution_count": 5,
   "metadata": {
    "collapsed": true
   },
   "outputs": [],
   "source": [
    "#訓練參數\n",
    "learning_rate = 0.001\n",
    "num_steps = 500\n",
    "batch_size = 128\n",
    "display_step = 10\n",
    "#神經網路參數\n",
    "num_input = 784\n",
    "num_classes = 10\n",
    "dropout = 0.75  #keep probability"
   ]
  },
  {
   "cell_type": "code",
   "execution_count": 7,
   "metadata": {
    "collapsed": true
   },
   "outputs": [],
   "source": [
    "#設定graph input\n",
    "x = tf.placeholder(tf.float32,[None,num_input])\n",
    "y = tf.placeholder(tf.float32,[None,num_classes])\n",
    "keep_prob = tf.placeholder(tf.float32)"
   ]
  },
  {
   "cell_type": "code",
   "execution_count": 11,
   "metadata": {},
   "outputs": [],
   "source": [
    "#設定神經網路的weights 以及 bias\n",
    "weights = {\n",
    "           #第一層捲基層的fillter\n",
    "           \"cw1\":tf.Variable(tf.random_normal([5,5,1,32])),\n",
    "           #第二層捲基層的fillter\n",
    "           \"cw2\":tf.Variable(tf.random_normal([5,5,32,64])),\n",
    "           #fully connected nn 的weights\n",
    "           \"fcw\":tf.Variable(tf.random_normal([7*7*64,1024])),\n",
    "           #out put layer \n",
    "           \"out\":tf.Variable(tf.random_normal([1024,num_classes]))\n",
    "           }\n",
    "\n",
    "biases = {\n",
    "          #第一層捲基層的bias\n",
    "           \"cb1\":tf.Variable(tf.random_normal([32])),\n",
    "          #第二層卷積層的bias\n",
    "           \"cb2\":tf.Variable(tf.random_normal([64])),\n",
    "           \"fcb\":tf.Variable(tf.random_normal([1024])),\n",
    "           \"opb\":tf.Variable(tf.random_normal([num_classes]))\n",
    "}"
   ]
  },
  {
   "cell_type": "code",
   "execution_count": 14,
   "metadata": {
    "collapsed": true
   },
   "outputs": [],
   "source": [
    "#設定卷積層\n",
    "def conv2d(x,w,b,strides=1):\n",
    "    x = tf.nn.conv2d(x,w,strides=[1,strides,strides,1],padding=\"SAME\")\n",
    "    x = tf.nn.bias_add(x,b)\n",
    "    return tf.nn.relu(x)\n",
    "#設定池化層\n",
    "def maxpool2d(x,k=2):\n",
    "    return tf.nn.max_pool(x,ksize=[1,k,k,1],strides=[1,k,k,1],padding=\"SAME\")\n",
    "\n",
    "#建立模型\n",
    "def conv_net(x,weights,biases,dropout):\n",
    "    #將input資料轉為 [Batch Size,Height,Width,Channel] \n",
    "    x = tf.reshape(x,shape=[-1,28,28,1])\n",
    "    #Convolution Layer1\n",
    "    conv1 = conv2d(x,weights[\"cw1\"],biases[\"cb1\"])\n",
    "    # pooling1\n",
    "    pool1 = maxpool2d(conv1,k=2)\n",
    "    #Convolution Layer2\n",
    "    conv2 = conv2d(pool1,weights[\"cw2\"],biases[\"cb2\"])\n",
    "    #pooling2\n",
    "    pool2 = maxpool2d(conv2,k=2)\n",
    "    \n",
    "    #fully connected layer\n",
    "    \n",
    "    #flatten\n",
    "    flatten = tf.reshape(pool2,[-1,7*7*64])\n",
    "    #fully connected\n",
    "    fc1 = tf.add(tf.matmul(flatten,weights[\"fcw\"]),biases[\"fcb\"])\n",
    "    fc1 = tf.nn.relu(fc1)\n",
    "    #Dropout\n",
    "    fc1 = tf.nn.dropout(fc1,dropout)\n",
    "    \n",
    "    #output, classs prediction\n",
    "    out = tf.add(tf.matmul(fc1,weights[\"out\"]),biases[\"opb\"])\n",
    "    \n",
    "    return out\n",
    "    \n",
    "    \n",
    "    \n"
   ]
  },
  {
   "cell_type": "code",
   "execution_count": 16,
   "metadata": {},
   "outputs": [],
   "source": [
    "#建立模型\n",
    "logits = conv_net(x,weights,biases,keep_prob)\n",
    "prediction = tf.nn.softmax(logits)\n",
    "\n",
    "#定義loss以及optimizer\n",
    "loss_op = tf.reduce_mean(tf.nn.softmax_cross_entropy_with_logits(logits=logits,labels=y))\n",
    "optimizer = tf.train.AdamOptimizer(learning_rate=learning_rate)\n",
    "train_op = optimizer.minimize(loss_op)\n",
    "\n",
    "# Evaluate model\n",
    "correct_pred = tf.equal(tf.argmax(prediction, 1), tf.argmax(y, 1))\n",
    "accuracy = tf.reduce_mean(tf.cast(correct_pred, tf.float32))\n",
    "\n",
    "# Initialize the variables (i.e. assign their default value)\n",
    "init = tf.global_variables_initializer()"
   ]
  },
  {
   "cell_type": "code",
   "execution_count": 18,
   "metadata": {},
   "outputs": [
    {
     "name": "stdout",
     "output_type": "stream",
     "text": [
      "Step 1, Minibatch Loss= 63709.0078, Training Accuracy= 0.086\n",
      "Step 10, Minibatch Loss= 26699.7754, Training Accuracy= 0.188\n",
      "Step 20, Minibatch Loss= 11743.6465, Training Accuracy= 0.430\n",
      "Step 30, Minibatch Loss= 5011.6743, Training Accuracy= 0.633\n",
      "Step 40, Minibatch Loss= 5650.2246, Training Accuracy= 0.688\n",
      "Step 50, Minibatch Loss= 3848.6133, Training Accuracy= 0.727\n",
      "Step 60, Minibatch Loss= 3014.3450, Training Accuracy= 0.812\n",
      "Step 70, Minibatch Loss= 2457.9092, Training Accuracy= 0.797\n",
      "Step 80, Minibatch Loss= 2241.6689, Training Accuracy= 0.875\n",
      "Step 90, Minibatch Loss= 1582.3037, Training Accuracy= 0.891\n",
      "Step 100, Minibatch Loss= 2513.7515, Training Accuracy= 0.820\n",
      "Step 110, Minibatch Loss= 1947.9111, Training Accuracy= 0.867\n",
      "Step 120, Minibatch Loss= 1933.0122, Training Accuracy= 0.867\n",
      "Step 130, Minibatch Loss= 1644.8779, Training Accuracy= 0.836\n",
      "Step 140, Minibatch Loss= 921.7498, Training Accuracy= 0.914\n",
      "Step 150, Minibatch Loss= 2720.6951, Training Accuracy= 0.844\n",
      "Step 160, Minibatch Loss= 1155.0728, Training Accuracy= 0.898\n",
      "Step 170, Minibatch Loss= 1014.3765, Training Accuracy= 0.891\n",
      "Step 180, Minibatch Loss= 1006.9781, Training Accuracy= 0.906\n",
      "Step 190, Minibatch Loss= 1798.9895, Training Accuracy= 0.914\n",
      "Step 200, Minibatch Loss= 1648.6702, Training Accuracy= 0.836\n",
      "Step 210, Minibatch Loss= 1209.0054, Training Accuracy= 0.906\n",
      "Step 220, Minibatch Loss= 1273.4893, Training Accuracy= 0.867\n",
      "Step 230, Minibatch Loss= 1027.3857, Training Accuracy= 0.914\n",
      "Step 240, Minibatch Loss= 802.1497, Training Accuracy= 0.906\n",
      "Step 250, Minibatch Loss= 358.3729, Training Accuracy= 0.922\n",
      "Step 260, Minibatch Loss= 1109.7122, Training Accuracy= 0.922\n",
      "Step 270, Minibatch Loss= 541.7126, Training Accuracy= 0.930\n",
      "Step 280, Minibatch Loss= 514.1863, Training Accuracy= 0.961\n",
      "Step 290, Minibatch Loss= 944.2518, Training Accuracy= 0.914\n",
      "Step 300, Minibatch Loss= 676.2106, Training Accuracy= 0.906\n",
      "Step 310, Minibatch Loss= 1350.6311, Training Accuracy= 0.883\n",
      "Step 320, Minibatch Loss= 1472.2467, Training Accuracy= 0.883\n",
      "Step 330, Minibatch Loss= 745.8792, Training Accuracy= 0.898\n",
      "Step 340, Minibatch Loss= 1287.2559, Training Accuracy= 0.875\n",
      "Step 350, Minibatch Loss= 559.9034, Training Accuracy= 0.914\n",
      "Step 360, Minibatch Loss= 754.5844, Training Accuracy= 0.922\n",
      "Step 370, Minibatch Loss= 1232.2957, Training Accuracy= 0.906\n",
      "Step 380, Minibatch Loss= 1058.9658, Training Accuracy= 0.883\n",
      "Step 390, Minibatch Loss= 817.4711, Training Accuracy= 0.891\n",
      "Step 400, Minibatch Loss= 933.4991, Training Accuracy= 0.906\n",
      "Step 410, Minibatch Loss= 372.8978, Training Accuracy= 0.945\n",
      "Step 420, Minibatch Loss= 498.3858, Training Accuracy= 0.914\n",
      "Step 430, Minibatch Loss= 521.2556, Training Accuracy= 0.906\n",
      "Step 440, Minibatch Loss= 276.6489, Training Accuracy= 0.930\n",
      "Step 450, Minibatch Loss= 698.4984, Training Accuracy= 0.891\n",
      "Step 460, Minibatch Loss= 521.0351, Training Accuracy= 0.938\n",
      "Step 470, Minibatch Loss= 493.4796, Training Accuracy= 0.953\n",
      "Step 480, Minibatch Loss= 37.4673, Training Accuracy= 0.992\n",
      "Step 490, Minibatch Loss= 211.1375, Training Accuracy= 0.961\n",
      "Step 500, Minibatch Loss= 225.3299, Training Accuracy= 0.945\n",
      "Optimization Finished!\n",
      "Testing Accuracy: 0.94140625\n"
     ]
    }
   ],
   "source": [
    "# Start training\n",
    "with tf.Session() as sess:\n",
    "\n",
    "    # Run the initializer\n",
    "    sess.run(init)\n",
    "\n",
    "    for step in range(1, num_steps+1):\n",
    "        batch_x, batch_y = mnist.train.next_batch(batch_size)\n",
    "        # Run optimization op (backprop)\n",
    "        sess.run(train_op, feed_dict={x: batch_x, y: batch_y, keep_prob: dropout})\n",
    "        if step % display_step == 0 or step == 1:\n",
    "            # Calculate batch loss and accuracy\n",
    "            loss, acc = sess.run([loss_op, accuracy], feed_dict={x: batch_x,\n",
    "                                                                 y: batch_y,\n",
    "                                                                 keep_prob: 1.0})\n",
    "            print(\"Step \" + str(step) + \", Minibatch Loss= \" + \\\n",
    "                  \"{:.4f}\".format(loss) + \", Training Accuracy= \" + \\\n",
    "                  \"{:.3f}\".format(acc))\n",
    "\n",
    "    print(\"Optimization Finished!\")\n",
    "\n",
    "    # Calculate accuracy for 256 MNIST test images\n",
    "    print(\"Testing Accuracy:\", \\\n",
    "        sess.run(accuracy, feed_dict={x: mnist.test.images[:256],\n",
    "                                      y: mnist.test.labels[:256],\n",
    "                                      keep_prob: 1.0}))"
   ]
  },
  {
   "cell_type": "code",
   "execution_count": null,
   "metadata": {
    "collapsed": true
   },
   "outputs": [],
   "source": []
  }
 ],
 "metadata": {
  "kernelspec": {
   "display_name": "Python 3",
   "language": "python",
   "name": "python3"
  },
  "language_info": {
   "codemirror_mode": {
    "name": "ipython",
    "version": 3
   },
   "file_extension": ".py",
   "mimetype": "text/x-python",
   "name": "python",
   "nbconvert_exporter": "python",
   "pygments_lexer": "ipython3",
   "version": "3.6.3"
  }
 },
 "nbformat": 4,
 "nbformat_minor": 2
}
